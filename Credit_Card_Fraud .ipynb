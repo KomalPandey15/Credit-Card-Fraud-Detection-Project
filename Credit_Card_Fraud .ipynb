{
 "cells": [
  {
   "cell_type": "code",
   "execution_count": 10,
   "metadata": {},
   "outputs": [
    {
     "ename": "AttributeError",
     "evalue": "module 'numpy' has no attribute '__config__'",
     "output_type": "error",
     "traceback": [
      "\u001b[1;31m---------------------------------------------------------------------------\u001b[0m",
      "\u001b[1;31mAttributeError\u001b[0m                            Traceback (most recent call last)",
      "\u001b[1;32m<ipython-input-10-44da12a5ffc5>\u001b[0m in \u001b[0;36m<module>\u001b[1;34m\u001b[0m\n\u001b[0;32m      2\u001b[0m \u001b[1;32mimport\u001b[0m \u001b[0mpandas\u001b[0m \u001b[1;32mas\u001b[0m \u001b[0mpd\u001b[0m\u001b[1;33m\u001b[0m\u001b[1;33m\u001b[0m\u001b[0m\n\u001b[0;32m      3\u001b[0m \u001b[1;32mimport\u001b[0m \u001b[0mmatplotlib\u001b[0m\u001b[1;33m.\u001b[0m\u001b[0mpyplot\u001b[0m \u001b[1;32mas\u001b[0m \u001b[0mplt\u001b[0m\u001b[1;33m\u001b[0m\u001b[1;33m\u001b[0m\u001b[0m\n\u001b[1;32m----> 4\u001b[1;33m \u001b[1;32mfrom\u001b[0m \u001b[0msklearn\u001b[0m \u001b[1;32mimport\u001b[0m \u001b[0msvm\u001b[0m\u001b[1;33m\u001b[0m\u001b[1;33m\u001b[0m\u001b[0m\n\u001b[0m",
      "\u001b[1;32m~\\anaconda\\lib\\site-packages\\sklearn\\__init__.py\u001b[0m in \u001b[0;36m<module>\u001b[1;34m\u001b[0m\n\u001b[0;32m     80\u001b[0m     \u001b[1;32mfrom\u001b[0m \u001b[1;33m.\u001b[0m \u001b[1;32mimport\u001b[0m \u001b[0m_distributor_init\u001b[0m  \u001b[1;31m# noqa: F401\u001b[0m\u001b[1;33m\u001b[0m\u001b[1;33m\u001b[0m\u001b[0m\n\u001b[0;32m     81\u001b[0m     \u001b[1;32mfrom\u001b[0m \u001b[1;33m.\u001b[0m \u001b[1;32mimport\u001b[0m \u001b[0m__check_build\u001b[0m  \u001b[1;31m# noqa: F401\u001b[0m\u001b[1;33m\u001b[0m\u001b[1;33m\u001b[0m\u001b[0m\n\u001b[1;32m---> 82\u001b[1;33m     \u001b[1;32mfrom\u001b[0m \u001b[1;33m.\u001b[0m\u001b[0mbase\u001b[0m \u001b[1;32mimport\u001b[0m \u001b[0mclone\u001b[0m\u001b[1;33m\u001b[0m\u001b[1;33m\u001b[0m\u001b[0m\n\u001b[0m\u001b[0;32m     83\u001b[0m     \u001b[1;32mfrom\u001b[0m \u001b[1;33m.\u001b[0m\u001b[0mutils\u001b[0m\u001b[1;33m.\u001b[0m\u001b[0m_show_versions\u001b[0m \u001b[1;32mimport\u001b[0m \u001b[0mshow_versions\u001b[0m\u001b[1;33m\u001b[0m\u001b[1;33m\u001b[0m\u001b[0m\n\u001b[0;32m     84\u001b[0m \u001b[1;33m\u001b[0m\u001b[0m\n",
      "\u001b[1;32m~\\anaconda\\lib\\site-packages\\sklearn\\base.py\u001b[0m in \u001b[0;36m<module>\u001b[1;34m\u001b[0m\n\u001b[0;32m     18\u001b[0m \u001b[1;33m\u001b[0m\u001b[0m\n\u001b[0;32m     19\u001b[0m \u001b[1;32mfrom\u001b[0m \u001b[1;33m.\u001b[0m \u001b[1;32mimport\u001b[0m \u001b[0m__version__\u001b[0m\u001b[1;33m\u001b[0m\u001b[1;33m\u001b[0m\u001b[0m\n\u001b[1;32m---> 20\u001b[1;33m \u001b[1;32mfrom\u001b[0m \u001b[1;33m.\u001b[0m\u001b[0mutils\u001b[0m \u001b[1;32mimport\u001b[0m \u001b[0m_IS_32BIT\u001b[0m\u001b[1;33m\u001b[0m\u001b[1;33m\u001b[0m\u001b[0m\n\u001b[0m\u001b[0;32m     21\u001b[0m \u001b[1;33m\u001b[0m\u001b[0m\n\u001b[0;32m     22\u001b[0m _DEFAULT_TAGS = {\n",
      "\u001b[1;32m~\\anaconda\\lib\\site-packages\\sklearn\\utils\\__init__.py\u001b[0m in \u001b[0;36m<module>\u001b[1;34m\u001b[0m\n\u001b[0;32m     18\u001b[0m \u001b[1;32mimport\u001b[0m \u001b[0mwarnings\u001b[0m\u001b[1;33m\u001b[0m\u001b[1;33m\u001b[0m\u001b[0m\n\u001b[0;32m     19\u001b[0m \u001b[1;32mimport\u001b[0m \u001b[0mnumpy\u001b[0m \u001b[1;32mas\u001b[0m \u001b[0mnp\u001b[0m\u001b[1;33m\u001b[0m\u001b[1;33m\u001b[0m\u001b[0m\n\u001b[1;32m---> 20\u001b[1;33m \u001b[1;32mfrom\u001b[0m \u001b[0mscipy\u001b[0m\u001b[1;33m.\u001b[0m\u001b[0msparse\u001b[0m \u001b[1;32mimport\u001b[0m \u001b[0missparse\u001b[0m\u001b[1;33m\u001b[0m\u001b[1;33m\u001b[0m\u001b[0m\n\u001b[0m\u001b[0;32m     21\u001b[0m \u001b[1;33m\u001b[0m\u001b[0m\n\u001b[0;32m     22\u001b[0m \u001b[1;32mfrom\u001b[0m \u001b[1;33m.\u001b[0m\u001b[0mmurmurhash\u001b[0m \u001b[1;32mimport\u001b[0m \u001b[0mmurmurhash3_32\u001b[0m\u001b[1;33m\u001b[0m\u001b[1;33m\u001b[0m\u001b[0m\n",
      "\u001b[1;32m~\\anaconda\\lib\\site-packages\\scipy\\sparse\\__init__.py\u001b[0m in \u001b[0;36m<module>\u001b[1;34m\u001b[0m\n\u001b[0;32m    227\u001b[0m \u001b[1;32mimport\u001b[0m \u001b[0mwarnings\u001b[0m \u001b[1;32mas\u001b[0m \u001b[0m_warnings\u001b[0m\u001b[1;33m\u001b[0m\u001b[1;33m\u001b[0m\u001b[0m\n\u001b[0;32m    228\u001b[0m \u001b[1;33m\u001b[0m\u001b[0m\n\u001b[1;32m--> 229\u001b[1;33m \u001b[1;32mfrom\u001b[0m \u001b[1;33m.\u001b[0m\u001b[0mbase\u001b[0m \u001b[1;32mimport\u001b[0m \u001b[1;33m*\u001b[0m\u001b[1;33m\u001b[0m\u001b[1;33m\u001b[0m\u001b[0m\n\u001b[0m\u001b[0;32m    230\u001b[0m \u001b[1;32mfrom\u001b[0m \u001b[1;33m.\u001b[0m\u001b[0mcsr\u001b[0m \u001b[1;32mimport\u001b[0m \u001b[1;33m*\u001b[0m\u001b[1;33m\u001b[0m\u001b[1;33m\u001b[0m\u001b[0m\n\u001b[0;32m    231\u001b[0m \u001b[1;32mfrom\u001b[0m \u001b[1;33m.\u001b[0m\u001b[0mcsc\u001b[0m \u001b[1;32mimport\u001b[0m \u001b[1;33m*\u001b[0m\u001b[1;33m\u001b[0m\u001b[1;33m\u001b[0m\u001b[0m\n",
      "\u001b[1;32m~\\anaconda\\lib\\site-packages\\scipy\\sparse\\base.py\u001b[0m in \u001b[0;36m<module>\u001b[1;34m\u001b[0m\n\u001b[0;32m      5\u001b[0m \u001b[1;33m\u001b[0m\u001b[0m\n\u001b[0;32m      6\u001b[0m \u001b[1;32mfrom\u001b[0m \u001b[0mscipy\u001b[0m\u001b[1;33m.\u001b[0m\u001b[0m_lib\u001b[0m\u001b[1;33m.\u001b[0m\u001b[0msix\u001b[0m \u001b[1;32mimport\u001b[0m \u001b[0mxrange\u001b[0m\u001b[1;33m\u001b[0m\u001b[1;33m\u001b[0m\u001b[0m\n\u001b[1;32m----> 7\u001b[1;33m \u001b[1;32mfrom\u001b[0m \u001b[0mscipy\u001b[0m\u001b[1;33m.\u001b[0m\u001b[0m_lib\u001b[0m\u001b[1;33m.\u001b[0m\u001b[0m_numpy_compat\u001b[0m \u001b[1;32mimport\u001b[0m \u001b[0mbroadcast_to\u001b[0m\u001b[1;33m\u001b[0m\u001b[1;33m\u001b[0m\u001b[0m\n\u001b[0m\u001b[0;32m      8\u001b[0m from .sputils import (isdense, isscalarlike, isintlike,\n\u001b[0;32m      9\u001b[0m                       \u001b[0mget_sum_dtype\u001b[0m\u001b[1;33m,\u001b[0m \u001b[0mvalidateaxis\u001b[0m\u001b[1;33m,\u001b[0m \u001b[0mcheck_reshape_kwargs\u001b[0m\u001b[1;33m,\u001b[0m\u001b[1;33m\u001b[0m\u001b[1;33m\u001b[0m\u001b[0m\n",
      "\u001b[1;32m~\\anaconda\\lib\\site-packages\\scipy\\_lib\\_numpy_compat.py\u001b[0m in \u001b[0;36m<module>\u001b[1;34m\u001b[0m\n\u001b[0;32m     14\u001b[0m \u001b[1;33m\u001b[0m\u001b[0m\n\u001b[0;32m     15\u001b[0m \u001b[1;32mif\u001b[0m \u001b[0mNumpyVersion\u001b[0m\u001b[1;33m(\u001b[0m\u001b[0mnp\u001b[0m\u001b[1;33m.\u001b[0m\u001b[0m__version__\u001b[0m\u001b[1;33m)\u001b[0m \u001b[1;33m>\u001b[0m \u001b[1;34m'1.7.0.dev'\u001b[0m\u001b[1;33m:\u001b[0m\u001b[1;33m\u001b[0m\u001b[1;33m\u001b[0m\u001b[0m\n\u001b[1;32m---> 16\u001b[1;33m     \u001b[0m_assert_warns\u001b[0m \u001b[1;33m=\u001b[0m \u001b[0mnp\u001b[0m\u001b[1;33m.\u001b[0m\u001b[0mtesting\u001b[0m\u001b[1;33m.\u001b[0m\u001b[0massert_warns\u001b[0m\u001b[1;33m\u001b[0m\u001b[1;33m\u001b[0m\u001b[0m\n\u001b[0m\u001b[0;32m     17\u001b[0m \u001b[1;32melse\u001b[0m\u001b[1;33m:\u001b[0m\u001b[1;33m\u001b[0m\u001b[1;33m\u001b[0m\u001b[0m\n\u001b[0;32m     18\u001b[0m     \u001b[1;32mdef\u001b[0m \u001b[0m_assert_warns\u001b[0m\u001b[1;33m(\u001b[0m\u001b[0mwarning_class\u001b[0m\u001b[1;33m,\u001b[0m \u001b[0mfunc\u001b[0m\u001b[1;33m,\u001b[0m \u001b[1;33m*\u001b[0m\u001b[0margs\u001b[0m\u001b[1;33m,\u001b[0m \u001b[1;33m**\u001b[0m\u001b[0mkw\u001b[0m\u001b[1;33m)\u001b[0m\u001b[1;33m:\u001b[0m\u001b[1;33m\u001b[0m\u001b[1;33m\u001b[0m\u001b[0m\n",
      "\u001b[1;32m~\\anaconda\\lib\\site-packages\\numpy\\__init__.py\u001b[0m in \u001b[0;36m__getattr__\u001b[1;34m(attr)\u001b[0m\n\u001b[0;32m    211\u001b[0m         \u001b[1;32mdef\u001b[0m \u001b[0m__getattr__\u001b[0m\u001b[1;33m(\u001b[0m\u001b[0mattr\u001b[0m\u001b[1;33m)\u001b[0m\u001b[1;33m:\u001b[0m\u001b[1;33m\u001b[0m\u001b[1;33m\u001b[0m\u001b[0m\n\u001b[0;32m    212\u001b[0m             \u001b[1;32mif\u001b[0m \u001b[0mattr\u001b[0m \u001b[1;33m==\u001b[0m \u001b[1;34m'testing'\u001b[0m\u001b[1;33m:\u001b[0m\u001b[1;33m\u001b[0m\u001b[1;33m\u001b[0m\u001b[0m\n\u001b[1;32m--> 213\u001b[1;33m                 \u001b[1;32mimport\u001b[0m \u001b[0mnumpy\u001b[0m\u001b[1;33m.\u001b[0m\u001b[0mtesting\u001b[0m \u001b[1;32mas\u001b[0m \u001b[0mtesting\u001b[0m\u001b[1;33m\u001b[0m\u001b[1;33m\u001b[0m\u001b[0m\n\u001b[0m\u001b[0;32m    214\u001b[0m                 \u001b[1;32mreturn\u001b[0m \u001b[0mtesting\u001b[0m\u001b[1;33m\u001b[0m\u001b[1;33m\u001b[0m\u001b[0m\n\u001b[0;32m    215\u001b[0m             \u001b[1;32melif\u001b[0m \u001b[0mattr\u001b[0m \u001b[1;33m==\u001b[0m \u001b[1;34m'Tester'\u001b[0m\u001b[1;33m:\u001b[0m\u001b[1;33m\u001b[0m\u001b[1;33m\u001b[0m\u001b[0m\n",
      "\u001b[1;32m~\\anaconda\\lib\\site-packages\\numpy\\testing\\__init__.py\u001b[0m in \u001b[0;36m<module>\u001b[1;34m\u001b[0m\n\u001b[0;32m     10\u001b[0m \u001b[1;32mfrom\u001b[0m \u001b[0munittest\u001b[0m \u001b[1;32mimport\u001b[0m \u001b[0mTestCase\u001b[0m\u001b[1;33m\u001b[0m\u001b[1;33m\u001b[0m\u001b[0m\n\u001b[0;32m     11\u001b[0m \u001b[1;33m\u001b[0m\u001b[0m\n\u001b[1;32m---> 12\u001b[1;33m \u001b[1;32mfrom\u001b[0m \u001b[1;33m.\u001b[0m\u001b[0m_private\u001b[0m\u001b[1;33m.\u001b[0m\u001b[0mutils\u001b[0m \u001b[1;32mimport\u001b[0m \u001b[1;33m*\u001b[0m\u001b[1;33m\u001b[0m\u001b[1;33m\u001b[0m\u001b[0m\n\u001b[0m\u001b[0;32m     13\u001b[0m \u001b[1;32mfrom\u001b[0m \u001b[1;33m.\u001b[0m\u001b[0m_private\u001b[0m \u001b[1;32mimport\u001b[0m \u001b[0mdecorators\u001b[0m \u001b[1;32mas\u001b[0m \u001b[0mdec\u001b[0m\u001b[1;33m\u001b[0m\u001b[1;33m\u001b[0m\u001b[0m\n\u001b[0;32m     14\u001b[0m from ._private.nosetester import (\n",
      "\u001b[1;32m~\\anaconda\\lib\\site-packages\\numpy\\testing\\_private\\utils.py\u001b[0m in \u001b[0;36m<module>\u001b[1;34m\u001b[0m\n\u001b[0;32m     55\u001b[0m \u001b[0mIS_PYPY\u001b[0m \u001b[1;33m=\u001b[0m \u001b[0mplatform\u001b[0m\u001b[1;33m.\u001b[0m\u001b[0mpython_implementation\u001b[0m\u001b[1;33m(\u001b[0m\u001b[1;33m)\u001b[0m \u001b[1;33m==\u001b[0m \u001b[1;34m'PyPy'\u001b[0m\u001b[1;33m\u001b[0m\u001b[1;33m\u001b[0m\u001b[0m\n\u001b[0;32m     56\u001b[0m \u001b[0mHAS_REFCOUNT\u001b[0m \u001b[1;33m=\u001b[0m \u001b[0mgetattr\u001b[0m\u001b[1;33m(\u001b[0m\u001b[0msys\u001b[0m\u001b[1;33m,\u001b[0m \u001b[1;34m'getrefcount'\u001b[0m\u001b[1;33m,\u001b[0m \u001b[1;32mNone\u001b[0m\u001b[1;33m)\u001b[0m \u001b[1;32mis\u001b[0m \u001b[1;32mnot\u001b[0m \u001b[1;32mNone\u001b[0m\u001b[1;33m\u001b[0m\u001b[1;33m\u001b[0m\u001b[0m\n\u001b[1;32m---> 57\u001b[1;33m \u001b[0mHAS_LAPACK64\u001b[0m \u001b[1;33m=\u001b[0m \u001b[0mhasattr\u001b[0m\u001b[1;33m(\u001b[0m\u001b[0mnumpy\u001b[0m\u001b[1;33m.\u001b[0m\u001b[0m__config__\u001b[0m\u001b[1;33m,\u001b[0m \u001b[1;34m'lapack_ilp64_opt_info'\u001b[0m\u001b[1;33m)\u001b[0m\u001b[1;33m\u001b[0m\u001b[1;33m\u001b[0m\u001b[0m\n\u001b[0m\u001b[0;32m     58\u001b[0m \u001b[1;33m\u001b[0m\u001b[0m\n\u001b[0;32m     59\u001b[0m \u001b[1;33m\u001b[0m\u001b[0m\n",
      "\u001b[1;32m~\\anaconda\\lib\\site-packages\\numpy\\__init__.py\u001b[0m in \u001b[0;36m__getattr__\u001b[1;34m(attr)\u001b[0m\n\u001b[0;32m    218\u001b[0m             \u001b[1;32melse\u001b[0m\u001b[1;33m:\u001b[0m\u001b[1;33m\u001b[0m\u001b[1;33m\u001b[0m\u001b[0m\n\u001b[0;32m    219\u001b[0m                 raise AttributeError(\"module {!r} has no attribute \"\n\u001b[1;32m--> 220\u001b[1;33m                                      \"{!r}\".format(__name__, attr))\n\u001b[0m\u001b[0;32m    221\u001b[0m \u001b[1;33m\u001b[0m\u001b[0m\n\u001b[0;32m    222\u001b[0m         \u001b[1;32mdef\u001b[0m \u001b[0m__dir__\u001b[0m\u001b[1;33m(\u001b[0m\u001b[1;33m)\u001b[0m\u001b[1;33m:\u001b[0m\u001b[1;33m\u001b[0m\u001b[1;33m\u001b[0m\u001b[0m\n",
      "\u001b[1;31mAttributeError\u001b[0m: module 'numpy' has no attribute '__config__'"
     ]
    }
   ],
   "source": [
    "import numpy as np\n",
    "import pandas as pd\n",
    "import matplotlib.pyplot as plt\n"
   ]
  },
  {
   "cell_type": "code",
   "execution_count": 11,
   "metadata": {},
   "outputs": [
    {
     "ename": "AttributeError",
     "evalue": "module 'numpy' has no attribute '__config__'",
     "output_type": "error",
     "traceback": [
      "\u001b[1;31m---------------------------------------------------------------------------\u001b[0m",
      "\u001b[1;31mAttributeError\u001b[0m                            Traceback (most recent call last)",
      "\u001b[1;32m<ipython-input-11-264c9a795a14>\u001b[0m in \u001b[0;36m<module>\u001b[1;34m\u001b[0m\n\u001b[1;32m----> 1\u001b[1;33m \u001b[1;32mfrom\u001b[0m \u001b[0msklearn\u001b[0m \u001b[1;32mimport\u001b[0m \u001b[0msvm\u001b[0m\u001b[1;33m\u001b[0m\u001b[1;33m\u001b[0m\u001b[0m\n\u001b[0m",
      "\u001b[1;32m~\\anaconda\\lib\\site-packages\\sklearn\\__init__.py\u001b[0m in \u001b[0;36m<module>\u001b[1;34m\u001b[0m\n\u001b[0;32m     80\u001b[0m     \u001b[1;32mfrom\u001b[0m \u001b[1;33m.\u001b[0m \u001b[1;32mimport\u001b[0m \u001b[0m_distributor_init\u001b[0m  \u001b[1;31m# noqa: F401\u001b[0m\u001b[1;33m\u001b[0m\u001b[1;33m\u001b[0m\u001b[0m\n\u001b[0;32m     81\u001b[0m     \u001b[1;32mfrom\u001b[0m \u001b[1;33m.\u001b[0m \u001b[1;32mimport\u001b[0m \u001b[0m__check_build\u001b[0m  \u001b[1;31m# noqa: F401\u001b[0m\u001b[1;33m\u001b[0m\u001b[1;33m\u001b[0m\u001b[0m\n\u001b[1;32m---> 82\u001b[1;33m     \u001b[1;32mfrom\u001b[0m \u001b[1;33m.\u001b[0m\u001b[0mbase\u001b[0m \u001b[1;32mimport\u001b[0m \u001b[0mclone\u001b[0m\u001b[1;33m\u001b[0m\u001b[1;33m\u001b[0m\u001b[0m\n\u001b[0m\u001b[0;32m     83\u001b[0m     \u001b[1;32mfrom\u001b[0m \u001b[1;33m.\u001b[0m\u001b[0mutils\u001b[0m\u001b[1;33m.\u001b[0m\u001b[0m_show_versions\u001b[0m \u001b[1;32mimport\u001b[0m \u001b[0mshow_versions\u001b[0m\u001b[1;33m\u001b[0m\u001b[1;33m\u001b[0m\u001b[0m\n\u001b[0;32m     84\u001b[0m \u001b[1;33m\u001b[0m\u001b[0m\n",
      "\u001b[1;32m~\\anaconda\\lib\\site-packages\\sklearn\\base.py\u001b[0m in \u001b[0;36m<module>\u001b[1;34m\u001b[0m\n\u001b[0;32m     18\u001b[0m \u001b[1;33m\u001b[0m\u001b[0m\n\u001b[0;32m     19\u001b[0m \u001b[1;32mfrom\u001b[0m \u001b[1;33m.\u001b[0m \u001b[1;32mimport\u001b[0m \u001b[0m__version__\u001b[0m\u001b[1;33m\u001b[0m\u001b[1;33m\u001b[0m\u001b[0m\n\u001b[1;32m---> 20\u001b[1;33m \u001b[1;32mfrom\u001b[0m \u001b[1;33m.\u001b[0m\u001b[0mutils\u001b[0m \u001b[1;32mimport\u001b[0m \u001b[0m_IS_32BIT\u001b[0m\u001b[1;33m\u001b[0m\u001b[1;33m\u001b[0m\u001b[0m\n\u001b[0m\u001b[0;32m     21\u001b[0m \u001b[1;33m\u001b[0m\u001b[0m\n\u001b[0;32m     22\u001b[0m _DEFAULT_TAGS = {\n",
      "\u001b[1;32m~\\anaconda\\lib\\site-packages\\sklearn\\utils\\__init__.py\u001b[0m in \u001b[0;36m<module>\u001b[1;34m\u001b[0m\n\u001b[0;32m     18\u001b[0m \u001b[1;32mimport\u001b[0m \u001b[0mwarnings\u001b[0m\u001b[1;33m\u001b[0m\u001b[1;33m\u001b[0m\u001b[0m\n\u001b[0;32m     19\u001b[0m \u001b[1;32mimport\u001b[0m \u001b[0mnumpy\u001b[0m \u001b[1;32mas\u001b[0m \u001b[0mnp\u001b[0m\u001b[1;33m\u001b[0m\u001b[1;33m\u001b[0m\u001b[0m\n\u001b[1;32m---> 20\u001b[1;33m \u001b[1;32mfrom\u001b[0m \u001b[0mscipy\u001b[0m\u001b[1;33m.\u001b[0m\u001b[0msparse\u001b[0m \u001b[1;32mimport\u001b[0m \u001b[0missparse\u001b[0m\u001b[1;33m\u001b[0m\u001b[1;33m\u001b[0m\u001b[0m\n\u001b[0m\u001b[0;32m     21\u001b[0m \u001b[1;33m\u001b[0m\u001b[0m\n\u001b[0;32m     22\u001b[0m \u001b[1;32mfrom\u001b[0m \u001b[1;33m.\u001b[0m\u001b[0mmurmurhash\u001b[0m \u001b[1;32mimport\u001b[0m \u001b[0mmurmurhash3_32\u001b[0m\u001b[1;33m\u001b[0m\u001b[1;33m\u001b[0m\u001b[0m\n",
      "\u001b[1;32m~\\anaconda\\lib\\site-packages\\scipy\\sparse\\__init__.py\u001b[0m in \u001b[0;36m<module>\u001b[1;34m\u001b[0m\n\u001b[0;32m    227\u001b[0m \u001b[1;32mimport\u001b[0m \u001b[0mwarnings\u001b[0m \u001b[1;32mas\u001b[0m \u001b[0m_warnings\u001b[0m\u001b[1;33m\u001b[0m\u001b[1;33m\u001b[0m\u001b[0m\n\u001b[0;32m    228\u001b[0m \u001b[1;33m\u001b[0m\u001b[0m\n\u001b[1;32m--> 229\u001b[1;33m \u001b[1;32mfrom\u001b[0m \u001b[1;33m.\u001b[0m\u001b[0mbase\u001b[0m \u001b[1;32mimport\u001b[0m \u001b[1;33m*\u001b[0m\u001b[1;33m\u001b[0m\u001b[1;33m\u001b[0m\u001b[0m\n\u001b[0m\u001b[0;32m    230\u001b[0m \u001b[1;32mfrom\u001b[0m \u001b[1;33m.\u001b[0m\u001b[0mcsr\u001b[0m \u001b[1;32mimport\u001b[0m \u001b[1;33m*\u001b[0m\u001b[1;33m\u001b[0m\u001b[1;33m\u001b[0m\u001b[0m\n\u001b[0;32m    231\u001b[0m \u001b[1;32mfrom\u001b[0m \u001b[1;33m.\u001b[0m\u001b[0mcsc\u001b[0m \u001b[1;32mimport\u001b[0m \u001b[1;33m*\u001b[0m\u001b[1;33m\u001b[0m\u001b[1;33m\u001b[0m\u001b[0m\n",
      "\u001b[1;32m~\\anaconda\\lib\\site-packages\\scipy\\sparse\\base.py\u001b[0m in \u001b[0;36m<module>\u001b[1;34m\u001b[0m\n\u001b[0;32m      5\u001b[0m \u001b[1;33m\u001b[0m\u001b[0m\n\u001b[0;32m      6\u001b[0m \u001b[1;32mfrom\u001b[0m \u001b[0mscipy\u001b[0m\u001b[1;33m.\u001b[0m\u001b[0m_lib\u001b[0m\u001b[1;33m.\u001b[0m\u001b[0msix\u001b[0m \u001b[1;32mimport\u001b[0m \u001b[0mxrange\u001b[0m\u001b[1;33m\u001b[0m\u001b[1;33m\u001b[0m\u001b[0m\n\u001b[1;32m----> 7\u001b[1;33m \u001b[1;32mfrom\u001b[0m \u001b[0mscipy\u001b[0m\u001b[1;33m.\u001b[0m\u001b[0m_lib\u001b[0m\u001b[1;33m.\u001b[0m\u001b[0m_numpy_compat\u001b[0m \u001b[1;32mimport\u001b[0m \u001b[0mbroadcast_to\u001b[0m\u001b[1;33m\u001b[0m\u001b[1;33m\u001b[0m\u001b[0m\n\u001b[0m\u001b[0;32m      8\u001b[0m from .sputils import (isdense, isscalarlike, isintlike,\n\u001b[0;32m      9\u001b[0m                       \u001b[0mget_sum_dtype\u001b[0m\u001b[1;33m,\u001b[0m \u001b[0mvalidateaxis\u001b[0m\u001b[1;33m,\u001b[0m \u001b[0mcheck_reshape_kwargs\u001b[0m\u001b[1;33m,\u001b[0m\u001b[1;33m\u001b[0m\u001b[1;33m\u001b[0m\u001b[0m\n",
      "\u001b[1;32m~\\anaconda\\lib\\site-packages\\scipy\\_lib\\_numpy_compat.py\u001b[0m in \u001b[0;36m<module>\u001b[1;34m\u001b[0m\n\u001b[0;32m     14\u001b[0m \u001b[1;33m\u001b[0m\u001b[0m\n\u001b[0;32m     15\u001b[0m \u001b[1;32mif\u001b[0m \u001b[0mNumpyVersion\u001b[0m\u001b[1;33m(\u001b[0m\u001b[0mnp\u001b[0m\u001b[1;33m.\u001b[0m\u001b[0m__version__\u001b[0m\u001b[1;33m)\u001b[0m \u001b[1;33m>\u001b[0m \u001b[1;34m'1.7.0.dev'\u001b[0m\u001b[1;33m:\u001b[0m\u001b[1;33m\u001b[0m\u001b[1;33m\u001b[0m\u001b[0m\n\u001b[1;32m---> 16\u001b[1;33m     \u001b[0m_assert_warns\u001b[0m \u001b[1;33m=\u001b[0m \u001b[0mnp\u001b[0m\u001b[1;33m.\u001b[0m\u001b[0mtesting\u001b[0m\u001b[1;33m.\u001b[0m\u001b[0massert_warns\u001b[0m\u001b[1;33m\u001b[0m\u001b[1;33m\u001b[0m\u001b[0m\n\u001b[0m\u001b[0;32m     17\u001b[0m \u001b[1;32melse\u001b[0m\u001b[1;33m:\u001b[0m\u001b[1;33m\u001b[0m\u001b[1;33m\u001b[0m\u001b[0m\n\u001b[0;32m     18\u001b[0m     \u001b[1;32mdef\u001b[0m \u001b[0m_assert_warns\u001b[0m\u001b[1;33m(\u001b[0m\u001b[0mwarning_class\u001b[0m\u001b[1;33m,\u001b[0m \u001b[0mfunc\u001b[0m\u001b[1;33m,\u001b[0m \u001b[1;33m*\u001b[0m\u001b[0margs\u001b[0m\u001b[1;33m,\u001b[0m \u001b[1;33m**\u001b[0m\u001b[0mkw\u001b[0m\u001b[1;33m)\u001b[0m\u001b[1;33m:\u001b[0m\u001b[1;33m\u001b[0m\u001b[1;33m\u001b[0m\u001b[0m\n",
      "\u001b[1;32m~\\anaconda\\lib\\site-packages\\numpy\\__init__.py\u001b[0m in \u001b[0;36m__getattr__\u001b[1;34m(attr)\u001b[0m\n\u001b[0;32m    211\u001b[0m         \u001b[1;32mdef\u001b[0m \u001b[0m__getattr__\u001b[0m\u001b[1;33m(\u001b[0m\u001b[0mattr\u001b[0m\u001b[1;33m)\u001b[0m\u001b[1;33m:\u001b[0m\u001b[1;33m\u001b[0m\u001b[1;33m\u001b[0m\u001b[0m\n\u001b[0;32m    212\u001b[0m             \u001b[1;32mif\u001b[0m \u001b[0mattr\u001b[0m \u001b[1;33m==\u001b[0m \u001b[1;34m'testing'\u001b[0m\u001b[1;33m:\u001b[0m\u001b[1;33m\u001b[0m\u001b[1;33m\u001b[0m\u001b[0m\n\u001b[1;32m--> 213\u001b[1;33m                 \u001b[1;32mimport\u001b[0m \u001b[0mnumpy\u001b[0m\u001b[1;33m.\u001b[0m\u001b[0mtesting\u001b[0m \u001b[1;32mas\u001b[0m \u001b[0mtesting\u001b[0m\u001b[1;33m\u001b[0m\u001b[1;33m\u001b[0m\u001b[0m\n\u001b[0m\u001b[0;32m    214\u001b[0m                 \u001b[1;32mreturn\u001b[0m \u001b[0mtesting\u001b[0m\u001b[1;33m\u001b[0m\u001b[1;33m\u001b[0m\u001b[0m\n\u001b[0;32m    215\u001b[0m             \u001b[1;32melif\u001b[0m \u001b[0mattr\u001b[0m \u001b[1;33m==\u001b[0m \u001b[1;34m'Tester'\u001b[0m\u001b[1;33m:\u001b[0m\u001b[1;33m\u001b[0m\u001b[1;33m\u001b[0m\u001b[0m\n",
      "\u001b[1;32m~\\anaconda\\lib\\site-packages\\numpy\\testing\\__init__.py\u001b[0m in \u001b[0;36m<module>\u001b[1;34m\u001b[0m\n\u001b[0;32m     10\u001b[0m \u001b[1;32mfrom\u001b[0m \u001b[0munittest\u001b[0m \u001b[1;32mimport\u001b[0m \u001b[0mTestCase\u001b[0m\u001b[1;33m\u001b[0m\u001b[1;33m\u001b[0m\u001b[0m\n\u001b[0;32m     11\u001b[0m \u001b[1;33m\u001b[0m\u001b[0m\n\u001b[1;32m---> 12\u001b[1;33m \u001b[1;32mfrom\u001b[0m \u001b[1;33m.\u001b[0m\u001b[0m_private\u001b[0m\u001b[1;33m.\u001b[0m\u001b[0mutils\u001b[0m \u001b[1;32mimport\u001b[0m \u001b[1;33m*\u001b[0m\u001b[1;33m\u001b[0m\u001b[1;33m\u001b[0m\u001b[0m\n\u001b[0m\u001b[0;32m     13\u001b[0m \u001b[1;32mfrom\u001b[0m \u001b[1;33m.\u001b[0m\u001b[0m_private\u001b[0m \u001b[1;32mimport\u001b[0m \u001b[0mdecorators\u001b[0m \u001b[1;32mas\u001b[0m \u001b[0mdec\u001b[0m\u001b[1;33m\u001b[0m\u001b[1;33m\u001b[0m\u001b[0m\n\u001b[0;32m     14\u001b[0m from ._private.nosetester import (\n",
      "\u001b[1;32m~\\anaconda\\lib\\site-packages\\numpy\\testing\\_private\\utils.py\u001b[0m in \u001b[0;36m<module>\u001b[1;34m\u001b[0m\n\u001b[0;32m     55\u001b[0m \u001b[0mIS_PYPY\u001b[0m \u001b[1;33m=\u001b[0m \u001b[0mplatform\u001b[0m\u001b[1;33m.\u001b[0m\u001b[0mpython_implementation\u001b[0m\u001b[1;33m(\u001b[0m\u001b[1;33m)\u001b[0m \u001b[1;33m==\u001b[0m \u001b[1;34m'PyPy'\u001b[0m\u001b[1;33m\u001b[0m\u001b[1;33m\u001b[0m\u001b[0m\n\u001b[0;32m     56\u001b[0m \u001b[0mHAS_REFCOUNT\u001b[0m \u001b[1;33m=\u001b[0m \u001b[0mgetattr\u001b[0m\u001b[1;33m(\u001b[0m\u001b[0msys\u001b[0m\u001b[1;33m,\u001b[0m \u001b[1;34m'getrefcount'\u001b[0m\u001b[1;33m,\u001b[0m \u001b[1;32mNone\u001b[0m\u001b[1;33m)\u001b[0m \u001b[1;32mis\u001b[0m \u001b[1;32mnot\u001b[0m \u001b[1;32mNone\u001b[0m\u001b[1;33m\u001b[0m\u001b[1;33m\u001b[0m\u001b[0m\n\u001b[1;32m---> 57\u001b[1;33m \u001b[0mHAS_LAPACK64\u001b[0m \u001b[1;33m=\u001b[0m \u001b[0mhasattr\u001b[0m\u001b[1;33m(\u001b[0m\u001b[0mnumpy\u001b[0m\u001b[1;33m.\u001b[0m\u001b[0m__config__\u001b[0m\u001b[1;33m,\u001b[0m \u001b[1;34m'lapack_ilp64_opt_info'\u001b[0m\u001b[1;33m)\u001b[0m\u001b[1;33m\u001b[0m\u001b[1;33m\u001b[0m\u001b[0m\n\u001b[0m\u001b[0;32m     58\u001b[0m \u001b[1;33m\u001b[0m\u001b[0m\n\u001b[0;32m     59\u001b[0m \u001b[1;33m\u001b[0m\u001b[0m\n",
      "\u001b[1;32m~\\anaconda\\lib\\site-packages\\numpy\\__init__.py\u001b[0m in \u001b[0;36m__getattr__\u001b[1;34m(attr)\u001b[0m\n\u001b[0;32m    218\u001b[0m             \u001b[1;32melse\u001b[0m\u001b[1;33m:\u001b[0m\u001b[1;33m\u001b[0m\u001b[1;33m\u001b[0m\u001b[0m\n\u001b[0;32m    219\u001b[0m                 raise AttributeError(\"module {!r} has no attribute \"\n\u001b[1;32m--> 220\u001b[1;33m                                      \"{!r}\".format(__name__, attr))\n\u001b[0m\u001b[0;32m    221\u001b[0m \u001b[1;33m\u001b[0m\u001b[0m\n\u001b[0;32m    222\u001b[0m         \u001b[1;32mdef\u001b[0m \u001b[0m__dir__\u001b[0m\u001b[1;33m(\u001b[0m\u001b[1;33m)\u001b[0m\u001b[1;33m:\u001b[0m\u001b[1;33m\u001b[0m\u001b[1;33m\u001b[0m\u001b[0m\n",
      "\u001b[1;31mAttributeError\u001b[0m: module 'numpy' has no attribute '__config__'"
     ]
    }
   ],
   "source": [
    "from sklearn import svm"
   ]
  },
  {
   "cell_type": "code",
   "execution_count": 9,
   "metadata": {
    "colab": {},
    "colab_type": "code",
    "id": "WhLE6VJ1Qidj"
   },
   "outputs": [
    {
     "ename": "AttributeError",
     "evalue": "module 'numpy' has no attribute '__config__'",
     "output_type": "error",
     "traceback": [
      "\u001b[1;31m---------------------------------------------------------------------------\u001b[0m",
      "\u001b[1;31mAttributeError\u001b[0m                            Traceback (most recent call last)",
      "\u001b[1;32m<ipython-input-9-11c3e9831fbb>\u001b[0m in \u001b[0;36m<module>\u001b[1;34m\u001b[0m\n\u001b[1;32m----> 1\u001b[1;33m \u001b[1;32mfrom\u001b[0m \u001b[0msklearn\u001b[0m\u001b[1;33m.\u001b[0m\u001b[0mnaive_bayes\u001b[0m \u001b[1;32mimport\u001b[0m \u001b[0mBernoulliNB\u001b[0m\u001b[1;33m,\u001b[0m \u001b[0mGaussianNB\u001b[0m\u001b[1;33m,\u001b[0m \u001b[0mMultinomialNB\u001b[0m\u001b[1;33m\u001b[0m\u001b[1;33m\u001b[0m\u001b[0m\n\u001b[0m\u001b[0;32m      2\u001b[0m \u001b[1;32mimport\u001b[0m \u001b[0mitertools\u001b[0m\u001b[1;33m\u001b[0m\u001b[1;33m\u001b[0m\u001b[0m\n\u001b[0;32m      3\u001b[0m \u001b[1;32mfrom\u001b[0m \u001b[0msklearn\u001b[0m\u001b[1;33m.\u001b[0m\u001b[0mlinear_model\u001b[0m \u001b[1;32mimport\u001b[0m \u001b[0mLogisticRegression\u001b[0m\u001b[1;33m\u001b[0m\u001b[1;33m\u001b[0m\u001b[0m\n\u001b[0;32m      4\u001b[0m \u001b[1;32mfrom\u001b[0m \u001b[0msklearn\u001b[0m\u001b[1;33m.\u001b[0m\u001b[0mmodel_selection\u001b[0m \u001b[1;32mimport\u001b[0m \u001b[0mKFold\u001b[0m\u001b[1;33m,\u001b[0m \u001b[0mcross_val_score\u001b[0m\u001b[1;33m\u001b[0m\u001b[1;33m\u001b[0m\u001b[0m\n\u001b[0;32m      5\u001b[0m \u001b[1;32mfrom\u001b[0m \u001b[0msklearn\u001b[0m\u001b[1;33m.\u001b[0m\u001b[0mpreprocessing\u001b[0m \u001b[1;32mimport\u001b[0m \u001b[0mStandardScaler\u001b[0m\u001b[1;33m\u001b[0m\u001b[1;33m\u001b[0m\u001b[0m\n",
      "\u001b[1;32m~\\anaconda\\lib\\site-packages\\sklearn\\__init__.py\u001b[0m in \u001b[0;36m<module>\u001b[1;34m\u001b[0m\n\u001b[0;32m     80\u001b[0m     \u001b[1;32mfrom\u001b[0m \u001b[1;33m.\u001b[0m \u001b[1;32mimport\u001b[0m \u001b[0m_distributor_init\u001b[0m  \u001b[1;31m# noqa: F401\u001b[0m\u001b[1;33m\u001b[0m\u001b[1;33m\u001b[0m\u001b[0m\n\u001b[0;32m     81\u001b[0m     \u001b[1;32mfrom\u001b[0m \u001b[1;33m.\u001b[0m \u001b[1;32mimport\u001b[0m \u001b[0m__check_build\u001b[0m  \u001b[1;31m# noqa: F401\u001b[0m\u001b[1;33m\u001b[0m\u001b[1;33m\u001b[0m\u001b[0m\n\u001b[1;32m---> 82\u001b[1;33m     \u001b[1;32mfrom\u001b[0m \u001b[1;33m.\u001b[0m\u001b[0mbase\u001b[0m \u001b[1;32mimport\u001b[0m \u001b[0mclone\u001b[0m\u001b[1;33m\u001b[0m\u001b[1;33m\u001b[0m\u001b[0m\n\u001b[0m\u001b[0;32m     83\u001b[0m     \u001b[1;32mfrom\u001b[0m \u001b[1;33m.\u001b[0m\u001b[0mutils\u001b[0m\u001b[1;33m.\u001b[0m\u001b[0m_show_versions\u001b[0m \u001b[1;32mimport\u001b[0m \u001b[0mshow_versions\u001b[0m\u001b[1;33m\u001b[0m\u001b[1;33m\u001b[0m\u001b[0m\n\u001b[0;32m     84\u001b[0m \u001b[1;33m\u001b[0m\u001b[0m\n",
      "\u001b[1;32m~\\anaconda\\lib\\site-packages\\sklearn\\base.py\u001b[0m in \u001b[0;36m<module>\u001b[1;34m\u001b[0m\n\u001b[0;32m     18\u001b[0m \u001b[1;33m\u001b[0m\u001b[0m\n\u001b[0;32m     19\u001b[0m \u001b[1;32mfrom\u001b[0m \u001b[1;33m.\u001b[0m \u001b[1;32mimport\u001b[0m \u001b[0m__version__\u001b[0m\u001b[1;33m\u001b[0m\u001b[1;33m\u001b[0m\u001b[0m\n\u001b[1;32m---> 20\u001b[1;33m \u001b[1;32mfrom\u001b[0m \u001b[1;33m.\u001b[0m\u001b[0mutils\u001b[0m \u001b[1;32mimport\u001b[0m \u001b[0m_IS_32BIT\u001b[0m\u001b[1;33m\u001b[0m\u001b[1;33m\u001b[0m\u001b[0m\n\u001b[0m\u001b[0;32m     21\u001b[0m \u001b[1;33m\u001b[0m\u001b[0m\n\u001b[0;32m     22\u001b[0m _DEFAULT_TAGS = {\n",
      "\u001b[1;32m~\\anaconda\\lib\\site-packages\\sklearn\\utils\\__init__.py\u001b[0m in \u001b[0;36m<module>\u001b[1;34m\u001b[0m\n\u001b[0;32m     18\u001b[0m \u001b[1;32mimport\u001b[0m \u001b[0mwarnings\u001b[0m\u001b[1;33m\u001b[0m\u001b[1;33m\u001b[0m\u001b[0m\n\u001b[0;32m     19\u001b[0m \u001b[1;32mimport\u001b[0m \u001b[0mnumpy\u001b[0m \u001b[1;32mas\u001b[0m \u001b[0mnp\u001b[0m\u001b[1;33m\u001b[0m\u001b[1;33m\u001b[0m\u001b[0m\n\u001b[1;32m---> 20\u001b[1;33m \u001b[1;32mfrom\u001b[0m \u001b[0mscipy\u001b[0m\u001b[1;33m.\u001b[0m\u001b[0msparse\u001b[0m \u001b[1;32mimport\u001b[0m \u001b[0missparse\u001b[0m\u001b[1;33m\u001b[0m\u001b[1;33m\u001b[0m\u001b[0m\n\u001b[0m\u001b[0;32m     21\u001b[0m \u001b[1;33m\u001b[0m\u001b[0m\n\u001b[0;32m     22\u001b[0m \u001b[1;32mfrom\u001b[0m \u001b[1;33m.\u001b[0m\u001b[0mmurmurhash\u001b[0m \u001b[1;32mimport\u001b[0m \u001b[0mmurmurhash3_32\u001b[0m\u001b[1;33m\u001b[0m\u001b[1;33m\u001b[0m\u001b[0m\n",
      "\u001b[1;32m~\\anaconda\\lib\\site-packages\\scipy\\sparse\\__init__.py\u001b[0m in \u001b[0;36m<module>\u001b[1;34m\u001b[0m\n\u001b[0;32m    227\u001b[0m \u001b[1;32mimport\u001b[0m \u001b[0mwarnings\u001b[0m \u001b[1;32mas\u001b[0m \u001b[0m_warnings\u001b[0m\u001b[1;33m\u001b[0m\u001b[1;33m\u001b[0m\u001b[0m\n\u001b[0;32m    228\u001b[0m \u001b[1;33m\u001b[0m\u001b[0m\n\u001b[1;32m--> 229\u001b[1;33m \u001b[1;32mfrom\u001b[0m \u001b[1;33m.\u001b[0m\u001b[0mbase\u001b[0m \u001b[1;32mimport\u001b[0m \u001b[1;33m*\u001b[0m\u001b[1;33m\u001b[0m\u001b[1;33m\u001b[0m\u001b[0m\n\u001b[0m\u001b[0;32m    230\u001b[0m \u001b[1;32mfrom\u001b[0m \u001b[1;33m.\u001b[0m\u001b[0mcsr\u001b[0m \u001b[1;32mimport\u001b[0m \u001b[1;33m*\u001b[0m\u001b[1;33m\u001b[0m\u001b[1;33m\u001b[0m\u001b[0m\n\u001b[0;32m    231\u001b[0m \u001b[1;32mfrom\u001b[0m \u001b[1;33m.\u001b[0m\u001b[0mcsc\u001b[0m \u001b[1;32mimport\u001b[0m \u001b[1;33m*\u001b[0m\u001b[1;33m\u001b[0m\u001b[1;33m\u001b[0m\u001b[0m\n",
      "\u001b[1;32m~\\anaconda\\lib\\site-packages\\scipy\\sparse\\base.py\u001b[0m in \u001b[0;36m<module>\u001b[1;34m\u001b[0m\n\u001b[0;32m      5\u001b[0m \u001b[1;33m\u001b[0m\u001b[0m\n\u001b[0;32m      6\u001b[0m \u001b[1;32mfrom\u001b[0m \u001b[0mscipy\u001b[0m\u001b[1;33m.\u001b[0m\u001b[0m_lib\u001b[0m\u001b[1;33m.\u001b[0m\u001b[0msix\u001b[0m \u001b[1;32mimport\u001b[0m \u001b[0mxrange\u001b[0m\u001b[1;33m\u001b[0m\u001b[1;33m\u001b[0m\u001b[0m\n\u001b[1;32m----> 7\u001b[1;33m \u001b[1;32mfrom\u001b[0m \u001b[0mscipy\u001b[0m\u001b[1;33m.\u001b[0m\u001b[0m_lib\u001b[0m\u001b[1;33m.\u001b[0m\u001b[0m_numpy_compat\u001b[0m \u001b[1;32mimport\u001b[0m \u001b[0mbroadcast_to\u001b[0m\u001b[1;33m\u001b[0m\u001b[1;33m\u001b[0m\u001b[0m\n\u001b[0m\u001b[0;32m      8\u001b[0m from .sputils import (isdense, isscalarlike, isintlike,\n\u001b[0;32m      9\u001b[0m                       \u001b[0mget_sum_dtype\u001b[0m\u001b[1;33m,\u001b[0m \u001b[0mvalidateaxis\u001b[0m\u001b[1;33m,\u001b[0m \u001b[0mcheck_reshape_kwargs\u001b[0m\u001b[1;33m,\u001b[0m\u001b[1;33m\u001b[0m\u001b[1;33m\u001b[0m\u001b[0m\n",
      "\u001b[1;32m~\\anaconda\\lib\\site-packages\\scipy\\_lib\\_numpy_compat.py\u001b[0m in \u001b[0;36m<module>\u001b[1;34m\u001b[0m\n\u001b[0;32m     14\u001b[0m \u001b[1;33m\u001b[0m\u001b[0m\n\u001b[0;32m     15\u001b[0m \u001b[1;32mif\u001b[0m \u001b[0mNumpyVersion\u001b[0m\u001b[1;33m(\u001b[0m\u001b[0mnp\u001b[0m\u001b[1;33m.\u001b[0m\u001b[0m__version__\u001b[0m\u001b[1;33m)\u001b[0m \u001b[1;33m>\u001b[0m \u001b[1;34m'1.7.0.dev'\u001b[0m\u001b[1;33m:\u001b[0m\u001b[1;33m\u001b[0m\u001b[1;33m\u001b[0m\u001b[0m\n\u001b[1;32m---> 16\u001b[1;33m     \u001b[0m_assert_warns\u001b[0m \u001b[1;33m=\u001b[0m \u001b[0mnp\u001b[0m\u001b[1;33m.\u001b[0m\u001b[0mtesting\u001b[0m\u001b[1;33m.\u001b[0m\u001b[0massert_warns\u001b[0m\u001b[1;33m\u001b[0m\u001b[1;33m\u001b[0m\u001b[0m\n\u001b[0m\u001b[0;32m     17\u001b[0m \u001b[1;32melse\u001b[0m\u001b[1;33m:\u001b[0m\u001b[1;33m\u001b[0m\u001b[1;33m\u001b[0m\u001b[0m\n\u001b[0;32m     18\u001b[0m     \u001b[1;32mdef\u001b[0m \u001b[0m_assert_warns\u001b[0m\u001b[1;33m(\u001b[0m\u001b[0mwarning_class\u001b[0m\u001b[1;33m,\u001b[0m \u001b[0mfunc\u001b[0m\u001b[1;33m,\u001b[0m \u001b[1;33m*\u001b[0m\u001b[0margs\u001b[0m\u001b[1;33m,\u001b[0m \u001b[1;33m**\u001b[0m\u001b[0mkw\u001b[0m\u001b[1;33m)\u001b[0m\u001b[1;33m:\u001b[0m\u001b[1;33m\u001b[0m\u001b[1;33m\u001b[0m\u001b[0m\n",
      "\u001b[1;32m~\\anaconda\\lib\\site-packages\\numpy\\__init__.py\u001b[0m in \u001b[0;36m__getattr__\u001b[1;34m(attr)\u001b[0m\n\u001b[0;32m    211\u001b[0m         \u001b[1;32mdef\u001b[0m \u001b[0m__getattr__\u001b[0m\u001b[1;33m(\u001b[0m\u001b[0mattr\u001b[0m\u001b[1;33m)\u001b[0m\u001b[1;33m:\u001b[0m\u001b[1;33m\u001b[0m\u001b[1;33m\u001b[0m\u001b[0m\n\u001b[0;32m    212\u001b[0m             \u001b[1;32mif\u001b[0m \u001b[0mattr\u001b[0m \u001b[1;33m==\u001b[0m \u001b[1;34m'testing'\u001b[0m\u001b[1;33m:\u001b[0m\u001b[1;33m\u001b[0m\u001b[1;33m\u001b[0m\u001b[0m\n\u001b[1;32m--> 213\u001b[1;33m                 \u001b[1;32mimport\u001b[0m \u001b[0mnumpy\u001b[0m\u001b[1;33m.\u001b[0m\u001b[0mtesting\u001b[0m \u001b[1;32mas\u001b[0m \u001b[0mtesting\u001b[0m\u001b[1;33m\u001b[0m\u001b[1;33m\u001b[0m\u001b[0m\n\u001b[0m\u001b[0;32m    214\u001b[0m                 \u001b[1;32mreturn\u001b[0m \u001b[0mtesting\u001b[0m\u001b[1;33m\u001b[0m\u001b[1;33m\u001b[0m\u001b[0m\n\u001b[0;32m    215\u001b[0m             \u001b[1;32melif\u001b[0m \u001b[0mattr\u001b[0m \u001b[1;33m==\u001b[0m \u001b[1;34m'Tester'\u001b[0m\u001b[1;33m:\u001b[0m\u001b[1;33m\u001b[0m\u001b[1;33m\u001b[0m\u001b[0m\n",
      "\u001b[1;32m~\\anaconda\\lib\\site-packages\\numpy\\testing\\__init__.py\u001b[0m in \u001b[0;36m<module>\u001b[1;34m\u001b[0m\n\u001b[0;32m     10\u001b[0m \u001b[1;32mfrom\u001b[0m \u001b[0munittest\u001b[0m \u001b[1;32mimport\u001b[0m \u001b[0mTestCase\u001b[0m\u001b[1;33m\u001b[0m\u001b[1;33m\u001b[0m\u001b[0m\n\u001b[0;32m     11\u001b[0m \u001b[1;33m\u001b[0m\u001b[0m\n\u001b[1;32m---> 12\u001b[1;33m \u001b[1;32mfrom\u001b[0m \u001b[1;33m.\u001b[0m\u001b[0m_private\u001b[0m\u001b[1;33m.\u001b[0m\u001b[0mutils\u001b[0m \u001b[1;32mimport\u001b[0m \u001b[1;33m*\u001b[0m\u001b[1;33m\u001b[0m\u001b[1;33m\u001b[0m\u001b[0m\n\u001b[0m\u001b[0;32m     13\u001b[0m \u001b[1;32mfrom\u001b[0m \u001b[1;33m.\u001b[0m\u001b[0m_private\u001b[0m \u001b[1;32mimport\u001b[0m \u001b[0mdecorators\u001b[0m \u001b[1;32mas\u001b[0m \u001b[0mdec\u001b[0m\u001b[1;33m\u001b[0m\u001b[1;33m\u001b[0m\u001b[0m\n\u001b[0;32m     14\u001b[0m from ._private.nosetester import (\n",
      "\u001b[1;32m~\\anaconda\\lib\\site-packages\\numpy\\testing\\_private\\utils.py\u001b[0m in \u001b[0;36m<module>\u001b[1;34m\u001b[0m\n\u001b[0;32m     55\u001b[0m \u001b[0mIS_PYPY\u001b[0m \u001b[1;33m=\u001b[0m \u001b[0mplatform\u001b[0m\u001b[1;33m.\u001b[0m\u001b[0mpython_implementation\u001b[0m\u001b[1;33m(\u001b[0m\u001b[1;33m)\u001b[0m \u001b[1;33m==\u001b[0m \u001b[1;34m'PyPy'\u001b[0m\u001b[1;33m\u001b[0m\u001b[1;33m\u001b[0m\u001b[0m\n\u001b[0;32m     56\u001b[0m \u001b[0mHAS_REFCOUNT\u001b[0m \u001b[1;33m=\u001b[0m \u001b[0mgetattr\u001b[0m\u001b[1;33m(\u001b[0m\u001b[0msys\u001b[0m\u001b[1;33m,\u001b[0m \u001b[1;34m'getrefcount'\u001b[0m\u001b[1;33m,\u001b[0m \u001b[1;32mNone\u001b[0m\u001b[1;33m)\u001b[0m \u001b[1;32mis\u001b[0m \u001b[1;32mnot\u001b[0m \u001b[1;32mNone\u001b[0m\u001b[1;33m\u001b[0m\u001b[1;33m\u001b[0m\u001b[0m\n\u001b[1;32m---> 57\u001b[1;33m \u001b[0mHAS_LAPACK64\u001b[0m \u001b[1;33m=\u001b[0m \u001b[0mhasattr\u001b[0m\u001b[1;33m(\u001b[0m\u001b[0mnumpy\u001b[0m\u001b[1;33m.\u001b[0m\u001b[0m__config__\u001b[0m\u001b[1;33m,\u001b[0m \u001b[1;34m'lapack_ilp64_opt_info'\u001b[0m\u001b[1;33m)\u001b[0m\u001b[1;33m\u001b[0m\u001b[1;33m\u001b[0m\u001b[0m\n\u001b[0m\u001b[0;32m     58\u001b[0m \u001b[1;33m\u001b[0m\u001b[0m\n\u001b[0;32m     59\u001b[0m \u001b[1;33m\u001b[0m\u001b[0m\n",
      "\u001b[1;32m~\\anaconda\\lib\\site-packages\\numpy\\__init__.py\u001b[0m in \u001b[0;36m__getattr__\u001b[1;34m(attr)\u001b[0m\n\u001b[0;32m    218\u001b[0m             \u001b[1;32melse\u001b[0m\u001b[1;33m:\u001b[0m\u001b[1;33m\u001b[0m\u001b[1;33m\u001b[0m\u001b[0m\n\u001b[0;32m    219\u001b[0m                 raise AttributeError(\"module {!r} has no attribute \"\n\u001b[1;32m--> 220\u001b[1;33m                                      \"{!r}\".format(__name__, attr))\n\u001b[0m\u001b[0;32m    221\u001b[0m \u001b[1;33m\u001b[0m\u001b[0m\n\u001b[0;32m    222\u001b[0m         \u001b[1;32mdef\u001b[0m \u001b[0m__dir__\u001b[0m\u001b[1;33m(\u001b[0m\u001b[1;33m)\u001b[0m\u001b[1;33m:\u001b[0m\u001b[1;33m\u001b[0m\u001b[1;33m\u001b[0m\u001b[0m\n",
      "\u001b[1;31mAttributeError\u001b[0m: module 'numpy' has no attribute '__config__'"
     ]
    }
   ],
   "source": [
    "\n",
    "from sklearn.naive_bayes import BernoulliNB, GaussianNB, MultinomialNB\n",
    "import itertools\n",
    "from sklearn.linear_model import LogisticRegression\n",
    "from sklearn.model_selection import KFold, cross_val_score\n",
    "from sklearn.preprocessing import StandardScaler\n",
    "from sklearn.neighbors import KNeighborsClassifier\n",
    "from sklearn import metrics\n",
    "scaler = StandardScaler()\n",
    "from sklearn.metrics import confusion_matrix,precision_recall_curve,auc,roc_auc_score,roc_curve,recall_score,classification_report,accuracy_score"
   ]
  },
  {
   "cell_type": "markdown",
   "metadata": {
    "colab": {
     "base_uri": "https://localhost:8080/",
     "height": 34
    },
    "colab_type": "code",
    "id": "xqwOJtULQySM",
    "outputId": "d1bca56a-f318-480a-cf6b-300f31ce1776"
   },
   "source": [
    "from google.colab import drive\n",
    "drive.mount('/content/drive')"
   ]
  },
  {
   "cell_type": "code",
   "execution_count": null,
   "metadata": {
    "colab": {},
    "colab_type": "code",
    "id": "T5GmjwLgQidt"
   },
   "outputs": [],
   "source": [
    "data = pd.read_csv('creditcard.csv')\n"
   ]
  },
  {
   "cell_type": "code",
   "execution_count": null,
   "metadata": {
    "colab": {
     "base_uri": "https://localhost:8080/",
     "height": 34
    },
    "colab_type": "code",
    "id": "ffd6NoZQQid8",
    "outputId": "b4807001-f6a4-4f9f-abca-c4ebe19de9ef"
   },
   "outputs": [],
   "source": [
    "x = data['Amount']\n",
    "x.mean()"
   ]
  },
  {
   "cell_type": "code",
   "execution_count": null,
   "metadata": {
    "colab": {
     "base_uri": "https://localhost:8080/",
     "height": 218
    },
    "colab_type": "code",
    "id": "gA41mnWiQieD",
    "outputId": "94267568-61ce-4617-a7e8-73134351dc27"
   },
   "outputs": [],
   "source": [
    "x = (x-x.mean())/x.std()\n",
    "x"
   ]
  },
  {
   "cell_type": "code",
   "execution_count": null,
   "metadata": {
    "colab": {},
    "colab_type": "code",
    "id": "QdSs30QMQieH"
   },
   "outputs": [],
   "source": [
    "data['Normalized_Amounts'] = x\n",
    "data = data.drop(['Time' , 'Amount'], axis =1)\n"
   ]
  },
  {
   "cell_type": "code",
   "execution_count": null,
   "metadata": {
    "colab": {
     "base_uri": "https://localhost:8080/",
     "height": 215
    },
    "colab_type": "code",
    "id": "nyVqR-aAQieK",
    "outputId": "e58dcd46-7e55-4824-a7de-66f38c3abd16"
   },
   "outputs": [],
   "source": [
    "data.head()"
   ]
  },
  {
   "cell_type": "code",
   "execution_count": null,
   "metadata": {
    "colab": {},
    "colab_type": "code",
    "id": "UXmx4DHcQieN"
   },
   "outputs": [],
   "source": [
    "X = data.iloc[:, data.columns != 'Class']\n",
    "y = data.iloc[:, data.columns == 'Class']\n"
   ]
  },
  {
   "cell_type": "markdown",
   "metadata": {
    "colab_type": "text",
    "id": "U6XJAzbjAVaF"
   },
   "source": [
    "UNDER SAMPLING THE DATASET WITH RATIO 50:50\n",
    "________________________________________________________________________"
   ]
  },
  {
   "cell_type": "code",
   "execution_count": 3,
   "metadata": {
    "colab": {
     "base_uri": "https://localhost:8080/",
     "height": 67
    },
    "colab_type": "code",
    "id": "bJIZ9F9TQieQ",
    "outputId": "ffcb83ff-c97d-4f5b-dde1-da34a62f811b"
   },
   "outputs": [
    {
     "ename": "NameError",
     "evalue": "name 'data' is not defined",
     "output_type": "error",
     "traceback": [
      "\u001b[1;31m---------------------------------------------------------------------------\u001b[0m",
      "\u001b[1;31mNameError\u001b[0m                                 Traceback (most recent call last)",
      "\u001b[1;32m<ipython-input-3-fa4d8c5efc6f>\u001b[0m in \u001b[0;36m<module>\u001b[1;34m\u001b[0m\n\u001b[1;32m----> 1\u001b[1;33m \u001b[0mnumber_records_fraud\u001b[0m \u001b[1;33m=\u001b[0m \u001b[0mlen\u001b[0m\u001b[1;33m(\u001b[0m\u001b[0mdata\u001b[0m\u001b[1;33m[\u001b[0m\u001b[0mdata\u001b[0m\u001b[1;33m.\u001b[0m\u001b[0mClass\u001b[0m \u001b[1;33m==\u001b[0m \u001b[1;36m1\u001b[0m\u001b[1;33m]\u001b[0m\u001b[1;33m)\u001b[0m\u001b[1;33m\u001b[0m\u001b[1;33m\u001b[0m\u001b[0m\n\u001b[0m\u001b[0;32m      2\u001b[0m \u001b[0mfraud_indices\u001b[0m \u001b[1;33m=\u001b[0m \u001b[0mnp\u001b[0m\u001b[1;33m.\u001b[0m\u001b[0marray\u001b[0m\u001b[1;33m(\u001b[0m\u001b[0mdata\u001b[0m\u001b[1;33m[\u001b[0m\u001b[0mdata\u001b[0m\u001b[1;33m.\u001b[0m\u001b[0mClass\u001b[0m \u001b[1;33m==\u001b[0m \u001b[1;36m1\u001b[0m\u001b[1;33m]\u001b[0m\u001b[1;33m.\u001b[0m\u001b[0mindex\u001b[0m\u001b[1;33m)\u001b[0m\u001b[1;33m\u001b[0m\u001b[1;33m\u001b[0m\u001b[0m\n\u001b[0;32m      3\u001b[0m \u001b[1;33m\u001b[0m\u001b[0m\n\u001b[0;32m      4\u001b[0m \u001b[1;31m# Picking the indices of the normal classes\u001b[0m\u001b[1;33m\u001b[0m\u001b[1;33m\u001b[0m\u001b[1;33m\u001b[0m\u001b[0m\n\u001b[0;32m      5\u001b[0m \u001b[0mnormal_indices\u001b[0m \u001b[1;33m=\u001b[0m \u001b[0mdata\u001b[0m\u001b[1;33m[\u001b[0m\u001b[0mdata\u001b[0m\u001b[1;33m.\u001b[0m\u001b[0mClass\u001b[0m \u001b[1;33m==\u001b[0m \u001b[1;36m0\u001b[0m\u001b[1;33m]\u001b[0m\u001b[1;33m.\u001b[0m\u001b[0mindex\u001b[0m\u001b[1;33m\u001b[0m\u001b[1;33m\u001b[0m\u001b[0m\n",
      "\u001b[1;31mNameError\u001b[0m: name 'data' is not defined"
     ]
    }
   ],
   "source": [
    "number_records_fraud = len(data[data.Class == 1])\n",
    "fraud_indices = np.array(data[data.Class == 1].index)\n",
    "\n",
    "# Picking the indices of the normal classes\n",
    "normal_indices = data[data.Class == 0].index\n",
    "\n",
    "# Out of the indices we picked, randomly select \"x\" number (number_records_fraud)\n",
    "random_normal_indices = np.random.choice(normal_indices, number_records_fraud, replace = False)\n",
    "random_normal_indices = np.array(random_normal_indices)\n",
    "\n",
    "# Appending the 2 indices\n",
    "under_sample_indices = np.concatenate([fraud_indices,random_normal_indices])\n",
    "\n",
    "# Under sample dataset\n",
    "under_sample_data = data.iloc[under_sample_indices,:]\n",
    "\n",
    "X_undersample = under_sample_data.iloc[:, under_sample_data.columns != 'Class']\n",
    "y_undersample = under_sample_data.iloc[:, under_sample_data.columns == 'Class']\n",
    "\n",
    "# Showing ratio\n",
    "print(\"Percentage of normal transactions: \", len(under_sample_data[under_sample_data.Class == 0])/len(under_sample_data))\n",
    "print(\"Percentage of fraud transactions: \", len(under_sample_data[under_sample_data.Class == 1])/len(under_sample_data))\n",
    "print(\"Total number of transactions in resampled data: \", len(under_sample_data))"
   ]
  },
  {
   "cell_type": "markdown",
   "metadata": {
    "colab_type": "text",
    "id": "a50BZoDgAiIk"
   },
   "source": [
    "UNDER SAMPLING THE DATASET WITH RATIO 10:90\n",
    "______________________________________________________________________"
   ]
  },
  {
   "cell_type": "code",
   "execution_count": null,
   "metadata": {
    "colab": {
     "base_uri": "https://localhost:8080/",
     "height": 67
    },
    "colab_type": "code",
    "id": "sJ9etsDXAGaZ",
    "outputId": "affaebac-e51d-49d8-8f96-2cff96c767a5"
   },
   "outputs": [],
   "source": [
    "#RATIO =  10:90\n",
    "\n",
    "# Out of the indices we picked, randomly select \"x\" number (number_records_fraud)\n",
    "random_normal_indices10_90 = np.random.choice(normal_indices,9*number_records_fraud, replace = False)\n",
    "random_normal_indices10_90 = np.array(random_normal_indices10_90)\n",
    "\n",
    "# Appending the 2 indices\n",
    "under_sample_indices10_90 = np.concatenate([fraud_indices,random_normal_indices10_90])\n",
    "\n",
    "# Under sample dataset\n",
    "under_sample_data10_90 = data.iloc[under_sample_indices10_90,:]\n",
    "\n",
    "X_undersample10_90 = under_sample_data10_90.iloc[:, under_sample_data10_90.columns != 'Class']\n",
    "y_undersample10_90 = under_sample_data10_90.iloc[:, under_sample_data10_90.columns == 'Class']\n",
    "\n",
    "# Showing ratio\n",
    "print(\"Percentage of normal transactions: \", len(under_sample_data10_90[under_sample_data10_90.Class == 0])/len(under_sample_data10_90))\n",
    "print(\"Percentage of fraud transactions: \", len(under_sample_data10_90[under_sample_data10_90.Class == 1])/len(under_sample_data10_90))\n",
    "print(\"Total number of transactions in resampled data: \", len(under_sample_data10_90))"
   ]
  },
  {
   "cell_type": "markdown",
   "metadata": {
    "colab_type": "text",
    "id": "ryH9JY0fAsX5"
   },
   "source": [
    "UNDER SAMPLING THE DATASET WITH RATIO 34:66\n",
    "________________________________________________________________________"
   ]
  },
  {
   "cell_type": "code",
   "execution_count": null,
   "metadata": {
    "colab": {
     "base_uri": "https://localhost:8080/",
     "height": 84
    },
    "colab_type": "code",
    "id": "ajNJSwaWAP-_",
    "outputId": "1b992cb8-8fe6-4c85-da8f-dacf4f416f05"
   },
   "outputs": [],
   "source": [
    "# RATIO =  34:66\n",
    "\n",
    "import math\n",
    "# Out of the indices we picked, randomly select \"x\" number (number_records_fraud)\n",
    "ratio = 66/34\n",
    "random_normal_indices34_66 = np.random.choice(normal_indices,math.ceil(ratio*number_records_fraud), replace = False)\n",
    "random_normal_indices34_66 = np.array(random_normal_indices34_66)\n",
    "\n",
    "# Appending the 2 indices\n",
    "under_sample_indices34_66 = np.concatenate([fraud_indices,random_normal_indices34_66])\n",
    "\n",
    "# Under sample dataset\n",
    "under_sample_data34_66 = data.iloc[under_sample_indices34_66,:]\n",
    "\n",
    "X_undersample34_66 = under_sample_data34_66.iloc[:, under_sample_data34_66.columns != 'Class']\n",
    "y_undersample34_66 = under_sample_data34_66.iloc[:, under_sample_data34_66.columns == 'Class']\n",
    "\n",
    "# Showing ratio\n",
    "print(\"Percentage of normal transactions: \", len(under_sample_data34_66[under_sample_data34_66.Class == 0])/len(under_sample_data34_66))\n",
    "print(\"Percentage of fraud transactions: \", len(under_sample_data34_66[under_sample_data34_66.Class == 1])/len(under_sample_data34_66))\n",
    "print(\"Total number of transactions in resampled data: \", len(under_sample_data34_66))\n",
    "ratio"
   ]
  },
  {
   "cell_type": "code",
   "execution_count": null,
   "metadata": {
    "colab": {
     "base_uri": "https://localhost:8080/",
     "height": 386
    },
    "colab_type": "code",
    "id": "RaADGl-0QieS",
    "outputId": "d581eb9e-4977-4481-f23b-e6a043d71202"
   },
   "outputs": [],
   "source": [
    "from sklearn.model_selection import train_test_split\n",
    "\n",
    "# Whole dataset\n",
    "X_train, X_test, y_train, y_test = train_test_split(X,y,test_size = 0.3, random_state = 0)\n",
    "\n",
    "print(\"WHOLE DATASET\")\n",
    "print(\"Number transactions train dataset: \", len(X_train))\n",
    "print(\"Number transactions test dataset: \", len(X_test))\n",
    "print(\"Total number of transactions: \", len(X_train)+len(X_test))\n",
    "print(\"____________________________________________________________________\")\n",
    "# Undersampled dataset\n",
    "\n",
    "# Ratio 50/50\n",
    "X_train_undersample, X_test_undersample, y_train_undersample, y_test_undersample = train_test_split(X_undersample\n",
    "                                                                                                   ,y_undersample\n",
    "                                                                                                   ,test_size = 0.3\n",
    "                                                                                                   ,random_state = 0)\n",
    "print(\"\")\n",
    "print(\"UNDERSAMPLED DATASET WITH RATIO 50:50\")\n",
    "print(\"Number transactions train dataset: \", len(X_train_undersample))\n",
    "print(\"Number transactions test dataset: \", len(X_test_undersample))\n",
    "print(\"Total number of transactions: \", len(X_train_undersample)+len(X_test_undersample))\n",
    "print(\"____________________________________________________________________\")\n",
    "\n",
    "\n",
    "#Ratio 10/90\n",
    "X_train_undersample10_90, X_test_undersample10_90, y_train_undersample10_90, y_test_undersample10_90 = train_test_split(X_undersample10_90\n",
    "                                                                                                   ,y_undersample10_90\n",
    "                                                                                                   ,test_size = 0.3\n",
    "                                                                                                   ,random_state = 0)\n",
    "print(\"\")\n",
    "print(\"UNDERSAMPLED DATASET WITH RATIO 10:90\")\n",
    "print(\"Number transactions train dataset: \", len(X_train_undersample10_90))\n",
    "print(\"Number transactions test dataset: \", len(X_test_undersample10_90))\n",
    "print(\"Total number of transactions: \", len(X_train_undersample10_90)+len(X_test_undersample10_90))\n",
    "print(\"____________________________________________________________________\")\n",
    "\n",
    "#Ratio 34/66\n",
    "X_train_undersample34_66, X_test_undersample34_66, y_train_undersample34_66, y_test_undersample34_66 = train_test_split(X_undersample34_66\n",
    "                                                                                                   ,y_undersample34_66\n",
    "                                                                                                   ,test_size = 0.3\n",
    "                                                                                                   ,random_state = 0)\n",
    "print(\"\")\n",
    "print(\"UNDERSAMPLED DATASET WITH RATIO 34:66\")\n",
    "print(\"Number transactions train dataset: \", len(X_train_undersample34_66))\n",
    "print(\"Number transactions test dataset: \", len(X_test_undersample34_66))\n",
    "print(\"Total number of transactions: \", len(X_train_undersample34_66)+len(X_test_undersample34_66))"
   ]
  },
  {
   "cell_type": "code",
   "execution_count": null,
   "metadata": {
    "colab": {},
    "colab_type": "code",
    "id": "aF8_mtH0Qief"
   },
   "outputs": [],
   "source": [
    "import itertools\n",
    "\n",
    "def plot_confusion_matrix(cm, classes,\n",
    "                          normalize=False,\n",
    "                          title='Confusion matrix',\n",
    "                          cmap=plt.cm.Blues):\n",
    "    \"\"\"\n",
    "    This function prints and plots the confusion matrix.\n",
    "    Normalization can be applied by setting `normalize=True`.\n",
    "    \"\"\"\n",
    "    plt.imshow(cm, interpolation='nearest', cmap=cmap)\n",
    "    plt.title(title)\n",
    "    plt.colorbar()\n",
    "    tick_marks = np.arange(len(classes))\n",
    "    plt.xticks(tick_marks, classes, rotation=0)\n",
    "    plt.yticks(tick_marks, classes)\n",
    "\n",
    "    if normalize:\n",
    "        cm = cm.astype('float') / cm.sum(axis=1)[:, np.newaxis]\n",
    "        #print(\"Normalized confusion matrix\")\n",
    "    else:\n",
    "        1#print('Confusion matrix, without normalization')\n",
    "\n",
    "    #print(cm)\n",
    "\n",
    "    thresh = cm.max() / 2.\n",
    "    for i, j in itertools.product(range(cm.shape[0]), range(cm.shape[1])):\n",
    "        plt.text(j, i, cm[i, j],\n",
    "                 horizontalalignment=\"center\",\n",
    "                 color=\"white\" if cm[i, j] > thresh else \"black\")\n",
    "\n",
    "    plt.tight_layout()\n",
    "    plt.ylabel('True label')\n",
    "    plt.xlabel('Predicted label')"
   ]
  },
  {
   "cell_type": "markdown",
   "metadata": {
    "colab_type": "text",
    "id": "S06inKmA7CFG"
   },
   "source": [
    "SUPPORT VECTOR MACHINES CLASSIFIER\n",
    "___________________\n",
    "_____________________________"
   ]
  },
  {
   "cell_type": "markdown",
   "metadata": {
    "colab": {
     "base_uri": "https://localhost:8080/",
     "height": 70
    },
    "colab_type": "code",
    "id": "MtUvbAStwgdK",
    "outputId": "58e3aa20-386a-496f-d399-3a16a00dc907"
   },
   "source": [
    "#  UNSAMPLED DATASET\n",
    "\n",
    "classifier = svm.SVC(kernel='linear') \n",
    "classifier.fit(X_train,y_train)\n",
    "\n",
    "y_pred = classifier.predict(X_test)\n",
    "class_names=np.array(['0','1'])\n",
    "cm = confusion_matrix(y_test, y_pred)\n",
    "plot_confusion_matrix(cm,class_names)\n",
    "\n",
    "print('We have detected ' + str(cm[1][1]) + ' frauds / ' + str(cm[1][1]+cm[1][0]) + ' total frauds.')\n",
    "print('\\nSo, the probability to detect a fraud is ' + str(cm[1][1]/(cm[1][1]+cm[1][0])))\n",
    "print(\"Accuracy Score :\")\n",
    "print(accuracy_score(y_test, y_pred))\n",
    "\n",
    "print(\"True Positive Rate:\",(cm[1,1]/(cm[1,1]+cm[1,0])))\n",
    "print(\"False Positive Rate:\",1-(cm[0,0]/(cm[0,0]+cm[0,1])))\n",
    "print(\"True Negative Rate:\",(cm[0,0]/(cm[0,0]+cm[0,1])))\n",
    "print(\"False Negative Rate:\",1-(cm[1,1]/(cm[1,1]+cm[1,0])))"
   ]
  },
  {
   "cell_type": "code",
   "execution_count": null,
   "metadata": {
    "colab": {},
    "colab_type": "code",
    "id": "_T8ajhCFbIau"
   },
   "outputs": [],
   "source": [
    "#  UNDERSAMPLED DATA\n",
    "#  Ratio 50:50\n",
    "classifier = svm.SVC(kernel='linear') \n",
    "classifier.fit(X_train_undersample,y_train_undersample)\n",
    "\n",
    "y_pred_undersample = classifier.predict(X_test_undersample)\n",
    "class_names=np.array(['0','1'])\n",
    "cm = confusion_matrix(y_test_undersample, y_pred_undersample)\n",
    "plot_confusion_matrix(cm,class_names)\n",
    "\n",
    "print('We have detected ' + str(cm[1][1]) + ' frauds / ' + str(cm[1][1]+cm[1][0]) + ' total frauds.')\n",
    "print('\\nSo, the probability to detect a fraud is ' + str(cm[1][1]/(cm[1][1]+cm[1][0])))\n",
    "print(\"Accuracy Score :\")\n",
    "print(accuracy_score(y_test_undersample, y_pred_undersample))\n",
    "\n",
    "print(\"True Positive Rate:\",(cm[1,1]/(cm[1,1]+cm[1,0])))\n",
    "print(\"False Positive Rate:\",1-(cm[0,0]/(cm[0,0]+cm[0,1])))\n",
    "print(\"True Negative Rate:\",(cm[0,0]/(cm[0,0]+cm[0,1])))\n",
    "print(\"False Negative Rate:\",1-(cm[1,1]/(cm[1,1]+cm[1,0])))"
   ]
  },
  {
   "cell_type": "code",
   "execution_count": null,
   "metadata": {
    "colab": {},
    "colab_type": "code",
    "id": "PfK968Y0DDTH"
   },
   "outputs": [],
   "source": [
    "#  UNDERSAMPLED DATA\n",
    "#  Ratio 10:90\n",
    "classifier10_90 = svm.SVC(kernel='linear') \n",
    "classifier10_90.fit(X_train_undersample10_90,y_train_undersample10_90)\n",
    "\n",
    "y_pred_undersample10_90 = classifier.predict(X_test_undersample10_90)\n",
    "class_names=np.array(['0','1'])\n",
    "cm2 = confusion_matrix(y_test_undersample10_90, y_pred_undersample10_90)\n",
    "plot_confusion_matrix(cm2,class_names)\n",
    "\n",
    "print('We have detected ' + str(cm2[1][1]) + ' frauds / ' + str(cm2[1][1]+cm2[1][0]) + ' total frauds.')\n",
    "print('\\nSo, the probability to detect a fraud is ' + str(cm2[1][1]/(cm2[1][1]+cm[1][0])))\n",
    "print(\"Accuracy Score :\")\n",
    "print(accuracy_score(y_test_undersample10_90, y_pred_undersample10_90))\n",
    "\n",
    "print(\"True Positive Rate:\",(cm2[1,1]/(cm2[1,1]+cm2[1,0])))\n",
    "print(\"False Positive Rate:\",1-(cm2[0,0]/(cm2[0,0]+cm2[0,1])))\n",
    "print(\"True Negative Rate:\",(cm2[0,0]/(cm2[0,0]+cm2[0,1])))\n",
    "print(\"False Negative Rate:\",1-(cm2[1,1]/(cm2[1,1]+cm2[1,0])))"
   ]
  },
  {
   "cell_type": "code",
   "execution_count": null,
   "metadata": {
    "colab": {},
    "colab_type": "code",
    "id": "tdVQGzHdDioR"
   },
   "outputs": [],
   "source": [
    "#  UNDERSAMPLED DATA\n",
    "#  Ratio 34:66\n",
    "classifier34_66 = svm.SVC(kernel='linear') \n",
    "classifier34_66.fit(X_train_undersample34_66,y_train_undersample34_66)\n",
    "\n",
    "y_pred_undersample34_66 = classifier.predict(X_test_undersample34_66)\n",
    "class_names=np.array(['0','1'])\n",
    "cm3 = confusion_matrix(y_test_undersample34_66, y_pred_undersample34_66)\n",
    "plot_confusion_matrix(cm3,class_names)\n",
    "\n",
    "print('We have detected ' + str(cm3[1][1]) + ' frauds / ' + str(cm3[1][1]+cm3[1][0]) + ' total frauds.')\n",
    "print('\\nSo, the probability to detect a fraud is ' + str(cm3[1][1]/(cm3[1][1]+cm3[1][0])))\n",
    "print(\"Accuracy Score :\")\n",
    "print(accuracy_score(y_test_undersample34_66, y_pred_undersample34_66))\n",
    "\n",
    "print(\"True Positive Rate:\",(cm3[1,1]/(cm3[1,1]+cm3[1,0])))\n",
    "print(\"False Positive Rate:\",1-(cm3[0,0]/(cm3[0,0]+cm3[0,1])))\n",
    "print(\"True Negative Rate:\",(cm3[0,0]/(cm3[0,0]+cm3[0,1])))\n",
    "print(\"False Negative Rate:\",1-(cm3[1,1]/(cm3[1,1]+cm3[1,0])))"
   ]
  },
  {
   "cell_type": "code",
   "execution_count": null,
   "metadata": {
    "colab": {},
    "colab_type": "code",
    "id": "oLTQjUyB8WOP"
   },
   "outputs": [],
   "source": [
    "# WHOLE DATA\n",
    "# Ratio 50:50\n",
    "classifier2 = svm.SVC(kernel='linear') \n",
    "classifier2.fit(X_train_undersample,y_train_undersample)\n",
    "y_pred = classifier2.predict(X_test)\n",
    "class_names=np.array(['0','1'])\n",
    "cm4 = confusion_matrix(y_test, y_pred)\n",
    "plot_confusion_matrix(cm4,class_names)\n",
    "\n",
    "print('We have detected ' + str(cm4[1][1]) + ' frauds / ' + str(cm4[1][1]+cm4[1][0]) + ' total frauds.')\n",
    "print('\\nSo, the probability to detect a fraud is ' + str(cm4[1][1]/(cm4[1][1]+cm4[1][0])))\n",
    "print(\"Accuracy Score :\")\n",
    "print(accuracy_score(y_test, y_pred))\n",
    "\n",
    "print(\"True Positive Rate:\",(cm4[1,1]/(cm4[1,1]+cm4[1,0])))\n",
    "print(\"False Positive Rate:\",1-(cm4[0,0]/(cm4[0,0]+cm4[0,1])))\n",
    "print(\"True Negative Rate:\",(cm4[0,0]/(cm4[0,0]+cm4[0,1])))\n",
    "print(\"False Negative Rate:\",1-(cm4[1,1]/(cm4[1,1]+cm4[1,0])))"
   ]
  },
  {
   "cell_type": "code",
   "execution_count": null,
   "metadata": {},
   "outputs": [],
   "source": [
    "#  WHOLE DATA\n",
    "#  Ratio 10:90\n",
    "classifier10_90 = svm.SVC(kernel='linear') \n",
    "classifier10_90.fit(X_train_undersample10_90,y_train_undersample10_90)\n",
    "\n",
    "y_pred_undersample10_90 = classifier.predict(X_test)\n",
    "class_names=np.array(['0','1'])\n",
    "cm2 = confusion_matrix(y_test, y_pred_undersample10_90)\n",
    "plot_confusion_matrix(cm2,class_names)\n",
    "\n",
    "print('We have detected ' + str(cm2[1][1]) + ' frauds / ' + str(cm2[1][1]+cm2[1][0]) + ' total frauds.')\n",
    "print('\\nSo, the probability to detect a fraud is ' + str(cm2[1][1]/(cm2[1][1]+cm[1][0])))\n",
    "print(\"Accuracy Score :\")\n",
    "print(accuracy_score(y_test, y_pred_undersample10_90))\n",
    "\n",
    "print(\"True Positive Rate:\",(cm2[1,1]/(cm2[1,1]+cm2[1,0])))\n",
    "print(\"False Positive Rate:\",1-(cm2[0,0]/(cm2[0,0]+cm2[0,1])))\n",
    "print(\"True Negative Rate:\",(cm2[0,0]/(cm2[0,0]+cm2[0,1])))\n",
    "print(\"False Negative Rate:\",1-(cm2[1,1]/(cm2[1,1]+cm2[1,0])))"
   ]
  },
  {
   "cell_type": "code",
   "execution_count": null,
   "metadata": {},
   "outputs": [],
   "source": [
    "#  WHOLE DATA\n",
    "#  Ratio 34:66\n",
    "classifier34_66 = svm.SVC(kernel='linear') \n",
    "classifier34_66.fit(X_train_undersample34_66,y_train_undersample34_66)\n",
    "\n",
    "y_pred_undersample34_66 = classifier.predict(X_test)\n",
    "class_names=np.array(['0','1'])\n",
    "cm3 = confusion_matrix(y_test, y_pred_undersample34_66)\n",
    "plot_confusion_matrix(cm3,class_names)\n",
    "\n",
    "print('We have detected ' + str(cm3[1][1]) + ' frauds / ' + str(cm3[1][1]+cm3[1][0]) + ' total frauds.')\n",
    "print('\\nSo, the probability to detect a fraud is ' + str(cm3[1][1]/(cm3[1][1]+cm3[1][0])))\n",
    "print(\"Accuracy Score :\")\n",
    "print(accuracy_score(y_test, y_pred_undersample34_66))\n",
    "\n",
    "print(\"True Positive Rate:\",(cm3[1,1]/(cm3[1,1]+cm3[1,0])))\n",
    "print(\"False Positive Rate:\",1-(cm3[0,0]/(cm3[0,0]+cm3[0,1])))\n",
    "print(\"True Negative Rate:\",(cm3[0,0]/(cm3[0,0]+cm3[0,1])))\n",
    "print(\"False Negative Rate:\",1-(cm3[1,1]/(cm3[1,1]+cm3[1,0])))"
   ]
  },
  {
   "cell_type": "markdown",
   "metadata": {
    "colab": {},
    "colab_type": "code",
    "id": "G4bIKMyESthi"
   },
   "source": [
    "classifier = svm.SVC(kernel='linear', probability=True,random_state=random_state) \n",
    "y_pred_undersample_score = classifier.fit(X_train_undersample,y_train_undersample.values.ravel().decision_function(X_test_undersample.values)\n",
    "[ fpr, tpr, thresholds ]= roc_curve(y_test_undersample.values.ravel(),y_pred_undersample_score)\n",
    "roc_auc = auc(fpr,tpr)\n",
    "\n",
    "# Plot ROC\n",
    "plt.title('Receiver Operating Characteristic')\n",
    "plt.plot(fpr, tpr, 'b',label='AUC = %0.2f'% roc_auc)\n",
    "plt.legend(loc='lower right')\n",
    "plt.plot([0,1],[0,1],'r--')\n",
    "plt.xlim([-0.1,1.0])\n",
    "plt.ylim([-0.1,1.01])\n",
    "plt.ylabel('True Positive Rate')\n",
    "plt.xlabel('False Positive Rate')\n",
    "plt.show()"
   ]
  },
  {
   "cell_type": "markdown",
   "metadata": {
    "colab_type": "text",
    "id": "qkTwK01hJfLH"
   },
   "source": [
    "LOGISTIC REGRESSION\n",
    "_________________________________________________________________________________\n",
    "______________________________________________________________________________________\n"
   ]
  },
  {
   "cell_type": "code",
   "execution_count": null,
   "metadata": {
    "colab": {},
    "colab_type": "code",
    "id": "phg5oFiGQiei"
   },
   "outputs": [],
   "source": [
    "#UNDERSAMPLED DATASET\n",
    "#RATIO 50:50\n",
    "\n",
    "\n",
    "\n",
    "# Use this C_parameter to build the final model with the whole training dataset and predict the classes in the test\n",
    "# dataset\n",
    "lr = LogisticRegression(C = 0.001, penalty = 'l2')\n",
    "lr.fit(X_train_undersample,y_train_undersample.values.ravel())\n",
    "y_pred_undersample = lr.predict(X_test_undersample)\n",
    "\n",
    "# Compute confusion matrix\n",
    "cnf_matrix = confusion_matrix(y_test_undersample,y_pred_undersample)\n",
    "np.set_printoptions(precision=2)\n",
    "\n",
    "print(\"Accuracy metric in the testing dataset: \",(accuracy_score(y_test_undersample, y_pred_undersample)))\n",
    "      \n",
    "\n",
    "# Plot non-normalized confusion matrix\n",
    "class_names = [0,1]\n",
    "plt.figure()\n",
    "plot_confusion_matrix(cnf_matrix\n",
    "                      , classes=class_names\n",
    "                      , title='Confusion matrix')\n",
    "plt.show()\n",
    "\n",
    "print(\"True Positive Rate:\",(cnf_matrix[1,1]/(cnf_matrix[1,1]+cnf_matrix[1,0])))\n",
    "print(\"False Positive Rate:\",1-(cnf_matrix[0,0]/(cnf_matrix[0,0]+cnf_matrix[0,1])))\n",
    "print(\"True Negative Rate:\",(cnf_matrix[0,0]/(cnf_matrix[0,0]+cnf_matrix[0,1])))\n",
    "print(\"False Negative Rate:\",1-(cnf_matrix[1,1]/(cnf_matrix[1,1]+cnf_matrix[1,0])))"
   ]
  },
  {
   "cell_type": "code",
   "execution_count": null,
   "metadata": {
    "colab": {},
    "colab_type": "code",
    "id": "eNKKtSAwWpSg"
   },
   "outputs": [],
   "source": [
    "#UNDERSAMPLED DATASET\n",
    "#RATIO 10:90\n",
    "\n",
    "\n",
    "# Use this C_parameter to build the final model with the whole training dataset and predict the classes in the test\n",
    "# dataset\n",
    "lr10_90 = LogisticRegression(C = 1, penalty = 'l2')\n",
    "lr10_90.fit(X_train_undersample10_90,y_train_undersample10_90.values.ravel())\n",
    "y_pred_undersample10_90 = lr10_90.predict(X_test_undersample10_90)\n",
    "\n",
    "# Compute confusion matrix\n",
    "cnf_matrix10_90 = confusion_matrix(y_test_undersample10_90,y_pred_undersample10_90)\n",
    "np.set_printoptions(precision=2)\n",
    "\n",
    "\n",
    "print(\"Accuracy metric in the testing dataset: \",(metrics.accuracy_score(y_test, y_pred_undersample10_90)))\n",
    "\n",
    "# Plot non-normalized confusion matrix\n",
    "class_names = [0,1]\n",
    "plt.figure()\n",
    "plot_confusion_matrix(cnf_matrix10_90\n",
    "                      , classes=class_names\n",
    "                      , title='Confusion matrix')\n",
    "plt.show()\n",
    "\n",
    "\n",
    "print(\"True Positive Rate:\",(cnf_matrix[1,1]/(cnf_matrix[1,1]+cnf_matrix[1,0])))\n",
    "print(\"False Positive Rate:\",1-(cnf_matrix[0,0]/(cnf_matrix[0,0]+cnf_matrix[0,1])))\n",
    "print(\"True Negative Rate:\",(cnf_matrix[0,0]/(cnf_matrix[0,0]+cnf_matrix[0,1])))\n",
    "print(\"False Negative Rate:\",1-(cnf_matrix[1,1]/(cnf_matrix[1,1]+cnf_matrix[1,0])))"
   ]
  },
  {
   "cell_type": "code",
   "execution_count": null,
   "metadata": {
    "colab": {},
    "colab_type": "code",
    "id": "EtT5dBwkW1bi"
   },
   "outputs": [],
   "source": [
    "#UNDERSAMPLED DATASET\n",
    "#RATIO 34:66\n",
    "\n",
    "\n",
    "\n",
    "# Use this C_parameter to build the final model with the whole training dataset and predict the classes in the test\n",
    "# dataset\n",
    "lr34_66 = LogisticRegression(C = 10, penalty = 'l2')\n",
    "lr34_66.fit(X_train_undersample34_66,y_train_undersample34_66.values.ravel())\n",
    "y_pred_undersample34_66 = lr34_66.predict(X_test_undersample34_66.values)\n",
    "\n",
    "# Compute confusion matrix\n",
    "cnf_matrix10_90 = confusion_matrix(y_test_undersample34_66,y_pred_undersample34_66)\n",
    "np.set_printoptions(precision=2)\n",
    "\n",
    "\n",
    "print(\"Accuracy metric in the testing dataset: \",(metrics.accuracy_score(y_test_undersample34_66, y_pred_undersample34_66)))\n",
    "\n",
    "# Plot non-normalized confusion matrix\n",
    "class_names = [0,1]\n",
    "plt.figure()\n",
    "plot_confusion_matrix(cnf_matrix10_90\n",
    "                      , classes=class_names\n",
    "                      , title='Confusion matrix')\n",
    "plt.show()\n",
    "\n",
    "print(\"True Positive Rate:\",(cnf_matrix[1,1]/(cnf_matrix[1,1]+cnf_matrix[1,0])))\n",
    "print(\"False Positive Rate:\",1-(cnf_matrix[0,0]/(cnf_matrix[0,0]+cnf_matrix[0,1])))\n",
    "print(\"True Negative Rate:\",(cnf_matrix[0,0]/(cnf_matrix[0,0]+cnf_matrix[0,1])))\n",
    "print(\"False Negative Rate:\",1-(cnf_matrix[1,1]/(cnf_matrix[1,1]+cnf_matrix[1,0])))"
   ]
  },
  {
   "cell_type": "code",
   "execution_count": null,
   "metadata": {
    "colab": {},
    "colab_type": "code",
    "id": "aQ3fjCoYQiel"
   },
   "outputs": [],
   "source": [
    "#  WHOLE DATASET\n",
    "#  RATIO 50:50\n",
    "\n",
    "# Use this C_parameter to build the final model with the whole training dataset and predict the classes in the test\n",
    "# dataset\n",
    "lr = LogisticRegression(C = 0.001, penalty = 'l2')\n",
    "lr.fit(X_train_undersample,y_train_undersample.values.ravel())\n",
    "y_pred = lr.predict(X_test.values)\n",
    "\n",
    "# Compute confusion matrix\n",
    "cnf_matrix = confusion_matrix(y_test,y_pred)\n",
    "np.set_printoptions(precision=2)\n",
    "\n",
    "print(\"Accuracy metric in the testing dataset: \",(accuracy_score(y_test_undersample, y_pred)))\n",
    "\n",
    "# Plot non-normalized confusion matrix\n",
    "class_names = [0,1]\n",
    "plt.figure()\n",
    "plot_confusion_matrix(cnf_matrix\n",
    "                      , classes=class_names\n",
    "                      , title='Confusion matrix')\n",
    "plt.show()\n",
    "\n",
    "print(\"True Positive Rate:\",(cnf_matrix[1,1]/(cnf_matrix[1,1]+cnf_matrix[1,0])))\n",
    "print(\"False Positive Rate:\",1-(cnf_matrix[0,0]/(cnf_matrix[0,0]+cnf_matrix[0,1])))\n",
    "print(\"True Negative Rate:\",(cnf_matrix[0,0]/(cnf_matrix[0,0]+cnf_matrix[0,1])))\n",
    "print(\"False Negative Rate:\",1-(cnf_matrix[1,1]/(cnf_matrix[1,1]+cnf_matrix[1,0])))"
   ]
  },
  {
   "cell_type": "code",
   "execution_count": null,
   "metadata": {
    "colab": {},
    "colab_type": "code",
    "id": "xA8cZu6KXZM_"
   },
   "outputs": [],
   "source": [
    "#  WHOLE DATASET\n",
    "#  RATIO 10:90\n",
    "\n",
    "\n",
    "# Use this C_parameter to build the final model with the whole training dataset and predict the classes in the test\n",
    "# dataset\n",
    "lr = LogisticRegression(C = 1, penalty = 'l2')\n",
    "lr.fit(X_train_undersample10_90,y_train_undersample10_90.values.ravel())\n",
    "y_pred = lr.predict(X_test)\n",
    "\n",
    "# Compute confusion matrix\n",
    "cnf_matrix = confusion_matrix(y_test,y_pred)\n",
    "np.set_printoptions(precision=2)\n",
    "\n",
    "\n",
    "print(\"Accuracy metric in the testing dataset: \",(accuracy_score(y_test, y_pred)))\n",
    "\n",
    "# Plot non-normalized confusion matrix\n",
    "class_names = [0,1]\n",
    "plt.figure()\n",
    "plot_confusion_matrix(cnf_matrix\n",
    "                      , classes=class_names\n",
    "                      , title='Confusion matrix')\n",
    "plt.show()\n",
    "\n",
    "print(\"True Positive Rate:\",(cnf_matrix[1,1]/(cnf_matrix[1,1]+cnf_matrix[1,0])))\n",
    "print(\"False Positive Rate:\",1-(cnf_matrix[0,0]/(cnf_matrix[0,0]+cnf_matrix[0,1])))\n",
    "print(\"True Negative Rate:\",(cnf_matrix[0,0]/(cnf_matrix[0,0]+cnf_matrix[0,1])))\n",
    "print(\"False Negative Rate:\",1-(cnf_matrix[1,1]/(cnf_matrix[1,1]+cnf_matrix[1,0])))"
   ]
  },
  {
   "cell_type": "code",
   "execution_count": null,
   "metadata": {
    "colab": {},
    "colab_type": "code",
    "id": "TERMAz0tXrvs"
   },
   "outputs": [],
   "source": [
    "#  WHOLE DATASET\n",
    "#  Ratio 34:66\n",
    "\n",
    "\n",
    "# Use this C_parameter to build the final model with the whole training dataset and predict the classes in the test\n",
    "# dataset\n",
    "lr = LogisticRegression(C = 10, penalty = 'l2')\n",
    "lr.fit(X_train_undersample34_66,y_train_undersample34_66.values.ravel())\n",
    "y_pred = lr.predict(X_test.values)\n",
    "\n",
    "# Compute confusion matrix\n",
    "cnf_matrix = confusion_matrix(y_test,y_pred)\n",
    "np.set_printoptions(precision=2)\n",
    "\n",
    "\n",
    "print(\"Accuracy metric in the testing dataset: \",(accuracy_score(y_test, y_pred)))\n",
    "\n",
    "# Plot non-normalized confusion matrix\n",
    "class_names = [0,1]\n",
    "plt.figure()\n",
    "plot_confusion_matrix(cnf_matrix\n",
    "                      , classes=class_names\n",
    "                      , title='Confusion matrix')\n",
    "plt.show()\n",
    "\n",
    "print(\"True Positive Rate:\",(cnf_matrix[1,1]/(cnf_matrix[1,1]+cnf_matrix[1,0])))\n",
    "print(\"False Positive Rate:\",1-(cnf_matrix[0,0]/(cnf_matrix[0,0]+cnf_matrix[0,1])))\n",
    "print(\"True Negative Rate:\",(cnf_matrix[0,0]/(cnf_matrix[0,0]+cnf_matrix[0,1])))\n",
    "print(\"False Negative Rate:\",1-(cnf_matrix[1,1]/(cnf_matrix[1,1]+cnf_matrix[1,0])))"
   ]
  },
  {
   "cell_type": "markdown",
   "metadata": {
    "colab": {},
    "colab_type": "code",
    "id": "f_P1l02QQies"
   },
   "source": [
    "# Use this C_parameter to build the final model with the whole training dataset and predict the classes in the test\n",
    "# dataset\n",
    "lr = LogisticRegression(C = 10, penalty = 'l2')\n",
    "lr.fit(X_train,y_train.values.ravel())\n",
    "y_pred_undersample = lr.predict(X_test.values)\n",
    "\n",
    "# Compute confusion matrix\n",
    "cnf_matrix = confusion_matrix(y_test,y_pred_undersample)\n",
    "np.set_printoptions(precision=2)\n",
    "\n",
    "print(\"Accuracy metric in the testing dataset: \",\n",
    "      ((cnf_matrix[0,0]+cnf_matrix[1,1])/(cnf_matrix[0,0]+cnf_matrix[0,1]+cnf_matrix[1,0]+cnf_matrix[1,1])))\n",
    "\n",
    "# Plot non-normalized confusion matrix\n",
    "class_names = [0,1]\n",
    "plt.figure()\n",
    "plot_confusion_matrix(cnf_matrix\n",
    "                      , classes=class_names\n",
    "                      , title='Confusion matrix')\n",
    "plt.show()\n",
    "\n",
    "print(\"True Positive Rate:\",(cnf_matrix[1,1]/(cnf_matrix[1,1]+cnf_matrix[1,0])))\n",
    "print(\"False Positive Rate:\",1-(cnf_matrix[0,0]/(cnf_matrix[0,0]+cnf_matrix[0,1])))\n",
    "print(\"True Negative Rate:\",(cnf_matrix[0,0]/(cnf_matrix[0,0]+cnf_matrix[0,1])))\n",
    "print(\"False Negative Rate:\",1-(cnf_matrix[1,1]/(cnf_matrix[1,1]+cnf_matrix[1,0])))"
   ]
  },
  {
   "cell_type": "code",
   "execution_count": null,
   "metadata": {
    "colab": {},
    "colab_type": "code",
    "id": "9R_YVLlTQiep"
   },
   "outputs": [],
   "source": [
    "# ROC CURVE\n",
    "lr = LogisticRegression(C = 0.001, penalty = 'l2')\n",
    "y_pred_undersample_score = lr.fit(X_train_undersample,y_train_undersample.values.ravel()).decision_function(X_test_undersample.values)\n",
    "\n",
    "fpr, tpr, thresholds = roc_curve(y_test_undersample.values.ravel(),y_pred_undersample_score)\n",
    "roc_auc = auc(fpr,tpr)\n",
    "\n",
    "# Plot ROC\n",
    "plt.title('Receiver Operating Characteristic')\n",
    "plt.plot(fpr, tpr, 'b',label='AUC = %0.2f'% roc_auc)\n",
    "plt.legend(loc='lower right')\n",
    "plt.plot([0,1],[0,1],'r--')\n",
    "plt.xlim([-0.1,1.0])\n",
    "plt.ylim([-0.1,1.01])\n",
    "plt.ylabel('True Positive Rate')\n",
    "plt.xlabel('False Positive Rate')\n",
    "plt.show()\n"
   ]
  },
  {
   "cell_type": "code",
   "execution_count": null,
   "metadata": {
    "colab": {},
    "colab_type": "code",
    "id": "Nrom9Z9AFrVr"
   },
   "outputs": [],
   "source": []
  },
  {
   "cell_type": "code",
   "execution_count": null,
   "metadata": {
    "colab": {},
    "colab_type": "code",
    "id": "9YF5Xa3eQiev"
   },
   "outputs": [],
   "source": [
    "lr = LogisticRegression(C = 0.01, penalty = 'l2')\n",
    "lr.fit(X_train_undersample,y_train_undersample.values.ravel())\n",
    "y_pred_undersample_proba = lr.predict_proba(X_test_undersample.values)\n",
    "\n",
    "thresholds = [0.1,0.2,0.3,0.4,0.5,0.6,0.7,0.8,0.9]\n",
    "\n",
    "plt.figure(figsize=(10,10))\n",
    "\n",
    "j = 1\n",
    "for i in thresholds:\n",
    "    y_test_predictions_high_recall = y_pred_undersample_proba[:,1] > i\n",
    "    \n",
    "    plt.subplot(3,3,j)\n",
    "    j += 1\n",
    "    \n",
    "    # Compute confusion matrix\n",
    "    cnf_matrix = confusion_matrix(y_test_undersample,y_test_predictions_high_recall)\n",
    "    np.set_printoptions(precision=2)\n",
    "\n",
    "    print(\"Recall metric in the testing dataset: \", cnf_matrix[1,1]/(cnf_matrix[1,0]+cnf_matrix[1,1]))\n",
    "\n",
    "    # Plot non-normalized confusion matrix\n",
    "    class_names = [0,1]\n",
    "    plot_confusion_matrix(cnf_matrix\n",
    "                          , classes=class_names\n",
    "                          , title='Threshold >= %s'%i) \n"
   ]
  },
  {
   "cell_type": "code",
   "execution_count": null,
   "metadata": {
    "colab": {},
    "colab_type": "code",
    "id": "pXLXU5GPQiex"
   },
   "outputs": [],
   "source": [
    "from itertools import cycle\n",
    "\n",
    "lr = LogisticRegression(C = 0.01, penalty = 'l2')\n",
    "lr.fit(X_train_undersample,y_train_undersample.values.ravel())\n",
    "y_pred_undersample_proba = lr.predict_proba(X_test_undersample.values)\n",
    "\n",
    "thresholds = [0.1,0.2,0.3,0.4,0.5,0.6,0.7,0.8,0.9]\n",
    "colors = cycle(['navy', 'turquoise', 'darkorange', 'cornflowerblue', 'teal', 'red', 'yellow', 'green', 'blue','black'])\n",
    "\n",
    "plt.figure(figsize=(5,5))\n",
    "\n",
    "j = 1\n",
    "for i,color in zip(thresholds,colors):\n",
    "    y_test_predictions_prob = y_pred_undersample_proba[:,1] > i\n",
    "    \n",
    "    precision, recall, thresholds = precision_recall_curve(y_test_undersample,y_test_predictions_prob)\n",
    "    \n",
    "    # Plot Precision-Recall curve\n",
    "    plt.plot(recall, precision, color=color,\n",
    "                 label='Threshold: %s'%i)\n",
    "    plt.xlabel('Recall')\n",
    "    plt.ylabel('Precision')\n",
    "    plt.ylim([0.0, 1.05])\n",
    "    plt.xlim([0.0, 1.0])\n",
    "    plt.title('Precision-Recall example')\n",
    "    plt.legend(loc=\"lower left\")"
   ]
  },
  {
   "cell_type": "markdown",
   "metadata": {
    "colab_type": "text",
    "id": "NfDMALd3YgF6"
   },
   "source": [
    "NAIVE BAYES CLASSIFIER\n",
    "______________________________________________________________________\n",
    "____________________________________________________________________________"
   ]
  },
  {
   "cell_type": "code",
   "execution_count": null,
   "metadata": {
    "colab": {},
    "colab_type": "code",
    "id": "hnJ54cDlQie0"
   },
   "outputs": [],
   "source": [
    "#  UNDERSAMPLED DATA\n",
    "\n",
    "#Create a Gaussian Classifier\n",
    "model = GaussianNB() \n",
    "\n",
    "# Train the model using the training sets\n",
    "# model.fit(X_train,y_train.values.ravel())\n",
    "\n",
    "# y_pred = model.predict(X_test.values)\n",
    "\n",
    "# Compute confusion matrix\n",
    "# cnf_matrix = confusion_matrix(y_test,y_pred)\n",
    "# np.set_printoptions(precision=2)\n",
    "\n",
    "# print(\"Accuracy metric in the testing dataset: \", ((cnf_matrix[0,0]+cnf_matrix[1,1])/(cnf_matrix[0,0]+cnf_matrix[0,1]+cnf_matrix[1,0]+cnf_matrix[1,1])))\n",
    "\n",
    "# Plot non-normalized confusion matrix\n",
    "# class_names = [0,1]\n",
    "# plt.figure()\n",
    "# plot_confusion_matrix(cnf_matrix , classes=class_names , title='Confusion matrix')\n",
    "# plt.show()\n",
    "\n",
    "# print(\"True Positive Rate:\",(cnf_matrix[1,1]/(cnf_matrix[1,1]+cnf_matrix[1,0])))\n",
    "# print(\"False Positive Rate:\",1-(cnf_matrix[0,0]/(cnf_matrix[0,0]+cnf_matrix[0,1])))\n",
    "# print(\"True Negative Rate:\",(cnf_matrix[0,0]/(cnf_matrix[0,0]+cnf_matrix[0,1])))\n",
    "# print(\"False Negative Rate:\",1-(cnf_matrix[1,1]/(cnf_matrix[1,1]+cnf_matrix[1,0]))) "
   ]
  },
  {
   "cell_type": "code",
   "execution_count": null,
   "metadata": {
    "colab": {},
    "colab_type": "code",
    "id": "QWjZ2U7aY21l"
   },
   "outputs": [],
   "source": [
    "#  WHOLE DATA\n",
    "#  RATIO 10:90\n",
    "\n",
    "# Use this C_parameter to build the final model with the whole training dataset and predict the classes in the test\n",
    "# dataset\n",
    "\n",
    "model.fit(X_train_undersample10_90,y_train_undersample10_90.values.ravel())\n",
    "y_pred = model.predict(X_test.values)\n",
    "\n",
    "# Compute confusion matrix\n",
    "cnf_matrix = confusion_matrix(y_test,y_pred)\n",
    "np.set_printoptions(precision=2)\n",
    "\n",
    "print(\"Accuracy metric in the testing dataset: \",accuracy_score(y_test, y_pred))\n",
    "\n",
    "# Plot non-normalized confusion matrix\n",
    "class_names = [0,1]\n",
    "plt.figure()\n",
    "plot_confusion_matrix(cnf_matrix\n",
    "                      , classes=class_names\n",
    "                      , title='Confusion matrix')\n",
    "plt.show()\n",
    "\n",
    "print(\"True Positive Rate:\",(cnf_matrix[1,1]/(cnf_matrix[1,1]+cnf_matrix[1,0])))\n",
    "print(\"False Positive Rate:\",1-(cnf_matrix[0,0]/(cnf_matrix[0,0]+cnf_matrix[0,1])))\n",
    "print(\"True Negative Rate:\",(cnf_matrix[0,0]/(cnf_matrix[0,0]+cnf_matrix[0,1])))\n",
    "print(\"False Negative Rate:\",1-(cnf_matrix[1,1]/(cnf_matrix[1,1]+cnf_matrix[1,0])))"
   ]
  },
  {
   "cell_type": "code",
   "execution_count": null,
   "metadata": {
    "colab": {},
    "colab_type": "code",
    "id": "CunRV55iY4YW"
   },
   "outputs": [],
   "source": [
    "#  WHOLE DATA\n",
    "#  RATIO 34:66\n",
    "\n",
    "\n",
    "# Use this C_parameter to build the final model with the whole training dataset and predict the classes in the test\n",
    "# dataset\n",
    "\n",
    "model.fit(X_train_undersample34_66,y_train_undersample34_66.values.ravel())\n",
    "y_pred = model.predict(X_test.values)\n",
    "\n",
    "# Compute confusion matrix\n",
    "cnf_matrix = confusion_matrix(y_test,y_pred)\n",
    "np.set_printoptions(precision=2)\n",
    "\n",
    "\n",
    "print(\"Accuracy metric in the testing dataset: \",accuracy_score(y_test, y_pred))\n",
    "\n",
    "# Plot non-normalized confusion matrix\n",
    "class_names = [0,1]\n",
    "plt.figure()\n",
    "plot_confusion_matrix(cnf_matrix\n",
    "                      , classes=class_names\n",
    "                      , title='Confusion matrix')\n",
    "plt.show()\n",
    "\n",
    "print(\"True Positive Rate:\",(cnf_matrix[1,1]/(cnf_matrix[1,1]+cnf_matrix[1,0])))\n",
    "print(\"False Positive Rate:\",1-(cnf_matrix[0,0]/(cnf_matrix[0,0]+cnf_matrix[0,1])))\n",
    "print(\"True Negative Rate:\",(cnf_matrix[0,0]/(cnf_matrix[0,0]+cnf_matrix[0,1])))\n",
    "print(\"False Negative Rate:\",1-(cnf_matrix[1,1]/(cnf_matrix[1,1]+cnf_matrix[1,0])))"
   ]
  },
  {
   "cell_type": "code",
   "execution_count": null,
   "metadata": {
    "colab": {},
    "colab_type": "code",
    "id": "YqSVD-6HY87-"
   },
   "outputs": [],
   "source": [
    "# WHOLE DATASET\n",
    "# RATIO 50:50\n",
    "\n",
    "# Use this C_parameter to build the final model with the whole training dataset and predict the classes in the test\n",
    "# dataset\n",
    "\n",
    "model.fit(X_train_undersample,y_train_undersample.values.ravel())\n",
    "y_pred = model.predict(X_test.values)\n",
    "\n",
    "# Compute confusion matrix\n",
    "cnf_matrix = confusion_matrix(y_test,y_pred)\n",
    "np.set_printoptions(precision=2)\n",
    "\n",
    "print(\"Accuracy metric in the testing dataset: \",accuracy_score(y_test, y_pred))\n",
    "\n",
    "# Plot non-normalized confusion matrix\n",
    "class_names = [0,1]\n",
    "plt.figure()\n",
    "plot_confusion_matrix(cnf_matrix\n",
    "                      , classes=class_names\n",
    "                      , title='Confusion matrix')\n",
    "plt.show()\n",
    "\n",
    "print(\"True Positive Rate:\",(cnf_matrix[1,1]/(cnf_matrix[1,1]+cnf_matrix[1,0])))\n",
    "print(\"False Positive Rate:\",1-(cnf_matrix[0,0]/(cnf_matrix[0,0]+cnf_matrix[0,1])))\n",
    "print(\"True Negative Rate:\",(cnf_matrix[0,0]/(cnf_matrix[0,0]+cnf_matrix[0,1])))\n",
    "print(\"False Negative Rate:\",1-(cnf_matrix[1,1]/(cnf_matrix[1,1]+cnf_matrix[1,0])))"
   ]
  },
  {
   "cell_type": "markdown",
   "metadata": {
    "colab_type": "text",
    "id": "oMGobWIZZ7oo"
   },
   "source": [
    "K NEAREST NEIGHBORS CLASSIFIER\n",
    "___________________________________________________________________\n",
    "__________________________________________________________________________"
   ]
  },
  {
   "cell_type": "markdown",
   "metadata": {
    "colab": {},
    "colab_type": "code",
    "id": "AyJXVT1il0H4"
   },
   "source": [
    "#Whole Dataset\n",
    "\n",
    "scaler.fit(X_train)\n",
    "X_train = scaler.transform(X_train)\n",
    "X_test = scaler.transform(X_test)\n",
    "\n",
    "classifier = KNeighborsClassifier(n_neighbors=3, metric='euclidean')\n",
    "classifier.fit(X_train, y_train)\n",
    "\n",
    "y_pred = classifier.predict(X_test)\n",
    "\n",
    "\n",
    "cnf_matrix = confusion_matrix(y_test,y_pred)\n",
    "np.set_printoptions(precision=2)\n",
    "\n",
    "class_names = [0,1]\n",
    "plt.figure()\n",
    "plot_confusion_matrix(cnf_matrix\n",
    "                      , classes=class_names\n",
    "                      , title='Confusion matrix')\n",
    "plt.show()\n",
    "\n",
    "print(\"Accuracy:\",metrics.accuracy_score(y_test, y_pred))\n",
    "print(\"True Positive Rate:\",(cnf_matrix[1,1]/(cnf_matrix[1,1]+cnf_matrix[1,0])))\n",
    "print(\"False Positive Rate:\",1-(cnf_matrix[0,0]/(cnf_matrix[0,0]+cnf_matrix[0,1])))\n",
    "print(\"True Negative Rate:\",(cnf_matrix[0,0]/(cnf_matrix[0,0]+cnf_matrix[0,1])))\n",
    "print(\"False Negative Rate:\",1-(cnf_matrix[1,1]/(cnf_matrix[1,1]+cnf_matrix[1,0])))"
   ]
  },
  {
   "cell_type": "code",
   "execution_count": null,
   "metadata": {
    "colab": {},
    "colab_type": "code",
    "id": "HgaJ0h_kz2ue"
   },
   "outputs": [],
   "source": [
    "#Under Sampling Ratio 50:50\n",
    "\n",
    "scaler.fit(X_train_undersample)\n",
    "X_train_undersample = scaler.transform(X_train_undersample)\n",
    "X_test_undersample = scaler.transform(X_test_undersample)\n",
    "\n",
    "classifier = KNeighborsClassifier(n_neighbors=3, metric='euclidean')\n",
    "classifier.fit(X_train_undersample, y_train_undersample)\n",
    "\n",
    "y_pred_undersample = classifier.predict(X_test_undersample)\n",
    "\n",
    "cnf_matrix = confusion_matrix(y_test_undersample,y_pred_undersample)\n",
    "np.set_printoptions(precision=2)\n",
    "\n",
    "class_names = [0,1]\n",
    "plt.figure()\n",
    "plot_confusion_matrix(cnf_matrix\n",
    "                      , classes=class_names\n",
    "                      , title='Confusion matrix')\n",
    "plt.show()\n",
    "\n",
    "\n",
    "\n",
    "print(\"Accuracy:\",metrics.accuracy_score(y_test_undersample, y_pred_undersample))\n",
    "print(\"True Positive Rate:\",(cnf_matrix[1,1]/(cnf_matrix[1,1]+cnf_matrix[1,0])))\n",
    "print(\"False Positive Rate:\",1-(cnf_matrix[0,0]/(cnf_matrix[0,0]+cnf_matrix[0,1])))\n",
    "print(\"True Negative Rate:\",(cnf_matrix[0,0]/(cnf_matrix[0,0]+cnf_matrix[0,1])))\n",
    "print(\"False Negative Rate:\",1-(cnf_matrix[1,1]/(cnf_matrix[1,1]+cnf_matrix[1,0])))"
   ]
  },
  {
   "cell_type": "code",
   "execution_count": null,
   "metadata": {
    "colab": {},
    "colab_type": "code",
    "id": "uzTrr47J0J7k"
   },
   "outputs": [],
   "source": [
    "#Under Sampling Ratio 10:90\n",
    "\n",
    "scaler.fit(X_train_undersample10_90)\n",
    "X_train_undersample10_90 = scaler.transform(X_train_undersample10_90)\n",
    "X_test_undersample10_90 = scaler.transform(X_test_undersample10_90)\n",
    "\n",
    "classifier = KNeighborsClassifier(n_neighbors=3, metric='euclidean')\n",
    "classifier.fit(X_train_undersample10_90, y_train_undersample10_90)\n",
    "\n",
    "y_pred_undersample10_90 = classifier.predict(X_test_undersample10_90)\n",
    "\n",
    "cnf_matrix = confusion_matrix(y_test_undersample10_90,y_pred_undersample10_90)\n",
    "np.set_printoptions(precision=2)\n",
    "\n",
    "class_names = [0,1]\n",
    "plt.figure()\n",
    "plot_confusion_matrix(cnf_matrix\n",
    "                      , classes=class_names\n",
    "                      , title='Confusion matrix')\n",
    "plt.show()\n",
    "\n",
    "print(\"Accuracy:\",metrics.accuracy_score(y_test_undersample10_90, y_pred_undersample10_90))\n",
    "print(\"True Positive Rate:\",(cnf_matrix[1,1]/(cnf_matrix[1,1]+cnf_matrix[1,0])))\n",
    "print(\"False Positive Rate:\",1-(cnf_matrix[0,0]/(cnf_matrix[0,0]+cnf_matrix[0,1])))\n",
    "print(\"True Negative Rate:\",(cnf_matrix[0,0]/(cnf_matrix[0,0]+cnf_matrix[0,1])))\n",
    "print(\"False Negative Rate:\",1-(cnf_matrix[1,1]/(cnf_matrix[1,1]+cnf_matrix[1,0])))"
   ]
  },
  {
   "cell_type": "code",
   "execution_count": null,
   "metadata": {
    "colab": {},
    "colab_type": "code",
    "id": "B25zHDCZ0oEK"
   },
   "outputs": [],
   "source": [
    "#Under Sampling Ratio 34:66\n",
    "\n",
    "\n",
    "scaler.fit(X_train_undersample34_66)\n",
    "X_train_undersample34_66 = scaler.transform(X_train_undersample34_66)\n",
    "X_test_undersample34_66 = scaler.transform(X_test_undersample34_66)\n",
    "\n",
    "classifier = KNeighborsClassifier(n_neighbors=3, metric='euclidean')\n",
    "classifier.fit(X_train_undersample34_66, y_train_undersample34_66)\n",
    "\n",
    "y_pred_undersample34_66 = classifier.predict(X_test_undersample34_66)\n",
    "\n",
    "cnf_matrix = confusion_matrix(y_test_undersample34_66,y_pred_undersample34_66)\n",
    "np.set_printoptions(precision=2)\n",
    "\n",
    "class_names = [0,1]\n",
    "plt.figure()\n",
    "plot_confusion_matrix(cnf_matrix\n",
    "                      , classes=class_names\n",
    "                      , title='Confusion matrix')\n",
    "plt.show()\n",
    "\n",
    "print(\"Accuracy:\",metrics.accuracy_score(y_test_undersample34_66, y_pred_undersample34_66))\n",
    "print(\"True Positive Rate:\",(cnf_matrix[1,1]/(cnf_matrix[1,1]+cnf_matrix[1,0])))\n",
    "print(\"False Positive Rate:\",1-(cnf_matrix[0,0]/(cnf_matrix[0,0]+cnf_matrix[0,1])))\n",
    "print(\"True Negative Rate:\",(cnf_matrix[0,0]/(cnf_matrix[0,0]+cnf_matrix[0,1])))\n",
    "print(\"False Negative Rate:\",1-(cnf_matrix[1,1]/(cnf_matrix[1,1]+cnf_matrix[1,0])))"
   ]
  },
  {
   "cell_type": "code",
   "execution_count": null,
   "metadata": {
    "colab": {},
    "colab_type": "code",
    "id": "Dv6SnUZQl0H7"
   },
   "outputs": [],
   "source": [
    "#WHOLE DATA\n",
    "#Ratio 50:50\n",
    "scaler.fit(X_train_undersample)\n",
    "X_train_undersample = scaler.transform(X_train_undersample)\n",
    "X_test_undersample = scaler.transform(X_test_undersample)\n",
    "\n",
    "classifier = KNeighborsClassifier(n_neighbors=3, metric='euclidean')\n",
    "classifier.fit(X_train_undersample, y_train_undersample)\n",
    "\n",
    "y_pred_undersample = classifier.predict(X_test)\n",
    "\n",
    "cnf_matrix = confusion_matrix(y_test,y_pred_undersample)\n",
    "np.set_printoptions(precision=2)\n",
    "\n",
    "class_names = [0,1]\n",
    "plt.figure()\n",
    "plot_confusion_matrix(cnf_matrix\n",
    "                      , classes=class_names\n",
    "                      , title='Confusion matrix')\n",
    "plt.show()\n",
    "\n",
    "\n",
    "\n",
    "print(\"Accuracy:\",metrics.accuracy_score(y_test, y_pred_undersample))\n",
    "print(\"True Positive Rate:\",(cnf_matrix[1,1]/(cnf_matrix[1,1]+cnf_matrix[1,0])))\n",
    "print(\"False Positive Rate:\",1-(cnf_matrix[0,0]/(cnf_matrix[0,0]+cnf_matrix[0,1])))\n",
    "print(\"True Negative Rate:\",(cnf_matrix[0,0]/(cnf_matrix[0,0]+cnf_matrix[0,1])))\n",
    "print(\"False Negative Rate:\",1-(cnf_matrix[1,1]/(cnf_matrix[1,1]+cnf_matrix[1,0])))"
   ]
  },
  {
   "cell_type": "code",
   "execution_count": null,
   "metadata": {
    "colab": {},
    "colab_type": "code",
    "id": "asHiexTql0H9"
   },
   "outputs": [],
   "source": [
    "#WHOLE DATA \n",
    "#Ratio 10:90\n",
    "scaler.fit(X_train_undersample10_90)\n",
    "X_train_undersample10_90 = scaler.transform(X_train_undersample10_90)\n",
    "X_test_undersample10_90 = scaler.transform(X_test_undersample10_90)\n",
    "\n",
    "classifier = KNeighborsClassifier(n_neighbors=3, metric='euclidean')\n",
    "classifier.fit(X_train_undersample10_90, y_train_undersample10_90)\n",
    "\n",
    "y_pred_undersample10_90 = classifier.predict(X_test)\n",
    "\n",
    "cnf_matrix = confusion_matrix(y_test,y_pred_undersample10_90)\n",
    "np.set_printoptions(precision=2)\n",
    "\n",
    "class_names = [0,1]\n",
    "plt.figure()\n",
    "plot_confusion_matrix(cnf_matrix\n",
    "                      , classes=class_names\n",
    "                      , title='Confusion matrix')\n",
    "plt.show()\n",
    "\n",
    "print(\"Accuracy:\",metrics.accuracy_score(y_test, y_pred_undersample10_90))\n",
    "print(\"True Positive Rate:\",(cnf_matrix[1,1]/(cnf_matrix[1,1]+cnf_matrix[1,0])))\n",
    "print(\"False Positive Rate:\",1-(cnf_matrix[0,0]/(cnf_matrix[0,0]+cnf_matrix[0,1])))\n",
    "print(\"True Negative Rate:\",(cnf_matrix[0,0]/(cnf_matrix[0,0]+cnf_matrix[0,1])))\n",
    "print(\"False Negative Rate:\",1-(cnf_matrix[1,1]/(cnf_matrix[1,1]+cnf_matrix[1,0])))"
   ]
  },
  {
   "cell_type": "code",
   "execution_count": null,
   "metadata": {
    "colab": {},
    "colab_type": "code",
    "id": "0wp385_6l0IA"
   },
   "outputs": [],
   "source": [
    "#WHOLE DATA\n",
    "#Ratio 34:66\n",
    "\n",
    "scaler.fit(X_train_undersample34_66)\n",
    "X_train_undersample34_66 = scaler.transform(X_train_undersample34_66)\n",
    "X_test_undersample34_66 = scaler.transform(X_test_undersample34_66)\n",
    "\n",
    "classifier = KNeighborsClassifier(n_neighbors=3, metric='euclidean')\n",
    "classifier.fit(X_train_undersample34_66, y_train_undersample34_66)\n",
    "\n",
    "y_pred_undersample34_66 = classifier.predict(X_test)\n",
    "\n",
    "cnf_matrix = confusion_matrix(y_test,y_pred_undersample34_66)\n",
    "np.set_printoptions(precision=2)\n",
    "\n",
    "class_names = [0,1]\n",
    "plt.figure()\n",
    "plot_confusion_matrix(cnf_matrix\n",
    "                      , classes=class_names\n",
    "                      , title='Confusion matrix')\n",
    "plt.show()\n",
    "\n",
    "print(\"Accuracy:\",metrics.accuracy_score(y_test, y_pred_undersample34_66))\n",
    "print(\"True Positive Rate:\",(cnf_matrix[1,1]/(cnf_matrix[1,1]+cnf_matrix[1,0])))\n",
    "print(\"False Positive Rate:\",1-(cnf_matrix[0,0]/(cnf_matrix[0,0]+cnf_matrix[0,1])))\n",
    "print(\"True Negative Rate:\",(cnf_matrix[0,0]/(cnf_matrix[0,0]+cnf_matrix[0,1])))\n",
    "print(\"False Negative Rate:\",1-(cnf_matrix[1,1]/(cnf_matrix[1,1]+cnf_matrix[1,0])))"
   ]
  }
 ],
 "metadata": {
  "colab": {
   "collapsed_sections": [],
   "name": "Finalest_Credit_Card_Fraud.ipynb",
   "provenance": []
  },
  "kernelspec": {
   "display_name": "Python 3",
   "language": "python",
   "name": "python3"
  },
  "language_info": {
   "codemirror_mode": {
    "name": "ipython",
    "version": 3
   },
   "file_extension": ".py",
   "mimetype": "text/x-python",
   "name": "python",
   "nbconvert_exporter": "python",
   "pygments_lexer": "ipython3",
   "version": "3.7.6"
  }
 },
 "nbformat": 4,
 "nbformat_minor": 1
}
